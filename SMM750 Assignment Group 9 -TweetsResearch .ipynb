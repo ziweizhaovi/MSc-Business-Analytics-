{
 "cells": [
  {
   "cell_type": "markdown",
   "id": "156e609c",
   "metadata": {},
   "source": [
    "# Tweets from @vivino"
   ]
  },
  {
   "cell_type": "markdown",
   "id": "6b1aac7a",
   "metadata": {},
   "source": [
    "## Get User Timeline information"
   ]
  },
  {
   "cell_type": "code",
   "execution_count": 2,
   "id": "cff58092",
   "metadata": {
    "ExecuteTime": {
     "end_time": "2022-11-04T08:52:45.278339Z",
     "start_time": "2022-11-04T08:52:41.718432Z"
    }
   },
   "outputs": [],
   "source": [
    "import tweepy\n",
    "import pickle\n",
    "import pandas as pd\n",
    "import numpy as np\n",
    "import matplotlib.pyplot as plt\n",
    "import seaborn as sns\n",
    "import statsmodels.api as sm"
   ]
  },
  {
   "cell_type": "code",
   "execution_count": 3,
   "id": "0e3cc962",
   "metadata": {
    "ExecuteTime": {
     "end_time": "2022-11-04T08:52:45.946504Z",
     "start_time": "2022-11-04T08:52:45.941932Z"
    }
   },
   "outputs": [],
   "source": [
    "from datetime import datetime, date, time\n",
    "import matplotlib.dates as mdates\n",
    "import time"
   ]
  },
  {
   "cell_type": "code",
   "execution_count": null,
   "id": "6eefe873",
   "metadata": {},
   "outputs": [],
   "source": [
    "# Get Access for API 1.0\n",
    "CONSUMER_API_KEY = ''\n",
    "CONSUMER_API_SECRET = ''\n",
    "ACCESS_KEY = ''\n",
    "ACCESS_SECRET = ''"
   ]
  },
  {
   "cell_type": "code",
   "execution_count": null,
   "id": "771ef08c",
   "metadata": {},
   "outputs": [],
   "source": [
    "auth = tweepy.OAuthHandler(CONSUMER_API_KEY, CONSUMER_API_SECRET)\n",
    "auth.set_access_token(ACCESS_KEY, ACCESS_SECRET)\n",
    "api = tweepy.API(auth, wait_on_rate_limit = True)"
   ]
  },
  {
   "cell_type": "code",
   "execution_count": 12,
   "id": "84134465",
   "metadata": {
    "ExecuteTime": {
     "end_time": "2022-11-04T08:54:57.642075Z",
     "start_time": "2022-11-04T08:54:57.638520Z"
    }
   },
   "outputs": [],
   "source": [
    "# Get Access for API 2.0\n",
    "BEARER_TOKEN = ''"
   ]
  },
  {
   "cell_type": "code",
   "execution_count": 13,
   "id": "fad7738f",
   "metadata": {
    "ExecuteTime": {
     "end_time": "2022-11-04T08:54:59.542810Z",
     "start_time": "2022-11-04T08:54:59.539256Z"
    }
   },
   "outputs": [],
   "source": [
    "client = tweepy.Client(bearer_token=BEARER_TOKEN)"
   ]
  },
  {
   "cell_type": "markdown",
   "id": "41320a69",
   "metadata": {},
   "source": [
    "### By API 2.0"
   ]
  },
  {
   "cell_type": "code",
   "execution_count": null,
   "id": "cd3cf25a",
   "metadata": {},
   "outputs": [],
   "source": [
    "# Getting Id of vivino\n",
    "vivino = client.get_user(username=\"vivino\")\n",
    "vivino_id = vivino.data.id\n",
    "print(vivino_id)"
   ]
  },
  {
   "cell_type": "code",
   "execution_count": null,
   "id": "f4df05b8",
   "metadata": {},
   "outputs": [],
   "source": [
    "# Test The results firstly\n",
    "\n",
    "for tweet in tweets_info.flatten(limit=10):\n",
    "    print(\"Tweet_ID: \" + str(tweet[\"id\"]))\n",
    "    print(\"Created at: \" + str(tweet.created_at))\n",
    "    print(\"Content: \" + tweet.text)\n",
    "    print(tweet[\"public_metrics\"])"
   ]
  },
  {
   "cell_type": "code",
   "execution_count": null,
   "id": "e5342bd3",
   "metadata": {},
   "outputs": [],
   "source": [
    "#Collect the tweets information excluding any 'retweets','replies'\n",
    "tweet_list = []\n",
    "for tweets in tweepy.Paginator(client.get_users_tweets,\n",
    "                              id = vivino_id,\n",
    "                              exclude = ['retweets','replies'],\n",
    "                              tweet_fields=[\"created_at\",\"text\",\"public_metrics\"],\n",
    "        ):\n",
    "    tweet_list += tweets.data\n",
    "    \n"
   ]
  },
  {
   "cell_type": "code",
   "execution_count": null,
   "id": "aa55e053",
   "metadata": {},
   "outputs": [],
   "source": [
    "tweet_id = [tweet.id for tweet in tweet_list]\n",
    "tweet_created_at = [tweet.creat_at for tweet in tweet_list]\n",
    "pd.DataFrame({'tweet_id': tweet_id, 'created_at': tweet_created_at})"
   ]
  },
  {
   "cell_type": "markdown",
   "id": "71fcf6f3",
   "metadata": {},
   "source": [
    "### By API 1.0"
   ]
  },
  {
   "cell_type": "code",
   "execution_count": null,
   "id": "163c6455",
   "metadata": {},
   "outputs": [],
   "source": [
    "# Check the code\n",
    "for tweet in tweepy.Cursor(api.user_timeline, screen_name=\"vivino\",count = 500).items(2):\n",
    "    print(\"Created at: \" + str(tweet.created_at))\n",
    "    print(\"Tweet_ID: \" + str(tweet.id_str))\n",
    "    print(\"Favourites: \" + str(tweet.favorite_count))\n",
    "    print(\"Retweets: \" + str(tweet.retweet_count))\n",
    "    print(\"Content: \" + tweet.text) \n",
    "    print(\"---------------------\\n\")"
   ]
  },
  {
   "cell_type": "code",
   "execution_count": null,
   "id": "40bf6770",
   "metadata": {},
   "outputs": [],
   "source": [
    "# Create list\n",
    "Created_time = []\n",
    "Tweet_ID = []\n",
    "Favourite_counts = []\n",
    "Retweets_counts = []\n",
    "Content = []\n",
    "\n",
    "for tweet in tweepy.Cursor(api.user_timeline, screen_name=\"vivino\").items():\n",
    "\n",
    "    Time = str(tweet.created_at)\n",
    "    Created_time.append(Time)\n",
    "    \n",
    "    ID = str(tweet.id_str)\n",
    "    Tweet_ID.append(ID)\n",
    "    \n",
    "    \n",
    "    Favourites = str(tweet.favorite_count)\n",
    "    Favourite_counts.append(Favourites)\n",
    "    \n",
    "    Retweets = str(tweet.retweet_count)\n",
    "    Retweets_counts.append(Retweets)\n",
    "    \n",
    "    Text = tweet.text\n",
    "    Content.append(Text)"
   ]
  },
  {
   "cell_type": "code",
   "execution_count": null,
   "id": "e5756c5c",
   "metadata": {},
   "outputs": [],
   "source": [
    "# Creat the Dataframe for this\n",
    "vivinoTweets = pd.DataFrame({\"tweet_ID\": tweet_ID, \"created_at\": created_at, \"content\": content, \"public_metrics\":public_metrics})\n",
    "vivinoTweets.head()"
   ]
  },
  {
   "cell_type": "code",
   "execution_count": null,
   "id": "5c3b2d37",
   "metadata": {},
   "outputs": [],
   "source": [
    "# Save as csv\n",
    "vivinoTweets.to_csv(\"vivinoTweets_11.01.csv\")\n"
   ]
  },
  {
   "cell_type": "markdown",
   "id": "20c9281f",
   "metadata": {},
   "source": [
    "## Make the time-series plot"
   ]
  },
  {
   "cell_type": "code",
   "execution_count": 4,
   "id": "9e0406d6",
   "metadata": {
    "ExecuteTime": {
     "end_time": "2022-11-04T08:52:54.080350Z",
     "start_time": "2022-11-04T08:52:54.051630Z"
    }
   },
   "outputs": [],
   "source": [
    "vivinodf = pd.read_csv(\"vivinoTweets_11.01.csv\")"
   ]
  },
  {
   "cell_type": "code",
   "execution_count": 5,
   "id": "1d1b3635",
   "metadata": {
    "ExecuteTime": {
     "end_time": "2022-11-04T08:52:54.733362Z",
     "start_time": "2022-11-04T08:52:54.715239Z"
    }
   },
   "outputs": [],
   "source": [
    "vivinodf['Favourite_counts'] = vivinodf['Favourite_counts'].apply(pd.to_numeric,errors='coerce')\n",
    "vivinodf['Retweets_counts'] = vivinodf['Retweets_counts'].apply(pd.to_numeric,errors='coerce')"
   ]
  },
  {
   "cell_type": "code",
   "execution_count": 6,
   "id": "3ca575cb",
   "metadata": {
    "ExecuteTime": {
     "end_time": "2022-11-04T08:52:55.548954Z",
     "start_time": "2022-11-04T08:52:55.290691Z"
    }
   },
   "outputs": [
    {
     "name": "stderr",
     "output_type": "stream",
     "text": [
      "/var/folders/q7/0qwk7p_s5yd4phd38jj4hwhr0000gn/T/ipykernel_29649/63714623.py:1: FutureWarning: Columnar iteration over characters will be deprecated in future releases.\n",
      "  vivinodf['Date'], vivinodf['Drop'] = vivinodf['Created_time'].str.split('+', 1).str\n"
     ]
    }
   ],
   "source": [
    "vivinodf['Date'], vivinodf['Drop'] = vivinodf['Created_time'].str.split('+', 1).str\n",
    "vivinodf['yearMonth'] =vivinodf.Date.apply(lambda x: pd.to_datetime(x).strftime('%Y-%m'))\n"
   ]
  },
  {
   "cell_type": "code",
   "execution_count": 109,
   "id": "da04a4cf",
   "metadata": {
    "ExecuteTime": {
     "end_time": "2022-11-03T00:34:40.006895Z",
     "start_time": "2022-11-03T00:34:39.491663Z"
    }
   },
   "outputs": [
    {
     "data": {
      "text/plain": [
       "<AxesSubplot:xlabel='yearMonth'>"
      ]
     },
     "execution_count": 109,
     "metadata": {},
     "output_type": "execute_result"
    },
    {
     "data": {
      "image/png": "[encoded data removed]",
      "text/plain": [
       "<Figure size 1152x432 with 1 Axes>"
      ]
     },
     "metadata": {
      "needs_background": "light"
     },
     "output_type": "display_data"
    }
   ],
   "source": [
    "#Calculate the total amounts \n",
    "vivinodf_month_df1 = vivinodf.groupby('yearMonth')['Favourite_counts'].sum().reset_index(name='Favourite_counts')\n",
    "vivinodf_month_df2 = vivinodf.groupby('yearMonth')['Retweets_counts'].sum().reset_index(name='Retweets_counts')\n",
    "\n",
    "# create time series for data:\n",
    "tfav = pd.Series(data=vivinodf_month_df1['Favourite_counts'].values, index=vivinodf_month_df1['yearMonth'])\n",
    "tret = pd.Series(data=vivinodf_month_df2['Retweets_counts'].values, index=vivinodf_month_df2['yearMonth'])\n",
    "\n",
    "# Likes vs retweets visualization:\n",
    "%matplotlib inline\n",
    "tfav.plot(figsize=(16,6), label=\"favorite_count\", legend=True)\n",
    "tret.plot(figsize=(16,6), label=\"retweet_count\", legend=True)"
   ]
  },
  {
   "cell_type": "markdown",
   "id": "b73915b5",
   "metadata": {},
   "source": [
    "According to the plot by timeline, it indicates that the highest engagement period for @vivino id during the 2016-2017, this might due to the expansion of the twetter. We tried to trace back to that 'bonus period' and find some tweets text contain the key words as \"vivino.com'. However, it requires the academic research access to get those via \"Full-archive search\". We tried to apply for that access but with bad luck. \n",
    "\n",
    "*We choose the key words of \"vivino.com\", because we found people may post their tweets after they rating from the \"vivino.com\" web directly. To some extend, it could be considered as a measurment of sales.(It is not perfect, but it is available for us.) "
   ]
  },
  {
   "cell_type": "markdown",
   "id": "843ec1c4",
   "metadata": {},
   "source": [
    "## Analysis the engaging users"
   ]
  },
  {
   "cell_type": "code",
   "execution_count": 7,
   "id": "0c86f9fd",
   "metadata": {
    "ExecuteTime": {
     "end_time": "2022-11-04T08:53:01.289087Z",
     "start_time": "2022-11-04T08:53:01.268654Z"
    }
   },
   "outputs": [],
   "source": [
    "# Read the Data\n",
    "vivinodf = pd.read_csv(\"vivinoTweets_11.01.csv\")"
   ]
  },
  {
   "cell_type": "code",
   "execution_count": 8,
   "id": "56a0d018",
   "metadata": {
    "ExecuteTime": {
     "end_time": "2022-11-04T08:53:04.402967Z",
     "start_time": "2022-11-04T08:53:04.380224Z"
    }
   },
   "outputs": [],
   "source": [
    "#Transfer str data to int\n",
    "vivinodf['Favourite_counts'] = vivinodf['Favourite_counts'].apply(pd.to_numeric,errors='coerce')\n",
    "vivinodf['Retweets_counts'] = vivinodf['Retweets_counts'].apply(pd.to_numeric,errors='coerce')\n",
    "\n",
    "# Sort the Data by Favourite_counts'\n",
    "vivinodf = vivinodf.sort_values(by=['Favourite_counts'])"
   ]
  },
  {
   "cell_type": "code",
   "execution_count": 9,
   "id": "3721fbc4",
   "metadata": {
    "ExecuteTime": {
     "end_time": "2022-11-04T08:53:05.008296Z",
     "start_time": "2022-11-04T08:53:04.991958Z"
    }
   },
   "outputs": [
    {
     "data": {
      "text/html": [
       "<div>\n",
       "<style scoped>\n",
       "    .dataframe tbody tr th:only-of-type {\n",
       "        vertical-align: middle;\n",
       "    }\n",
       "\n",
       "    .dataframe tbody tr th {\n",
       "        vertical-align: top;\n",
       "    }\n",
       "\n",
       "    .dataframe thead th {\n",
       "        text-align: right;\n",
       "    }\n",
       "</style>\n",
       "<table border=\"1\" class=\"dataframe\">\n",
       "  <thead>\n",
       "    <tr style=\"text-align: right;\">\n",
       "      <th></th>\n",
       "      <th>Unnamed: 0</th>\n",
       "      <th>Created_time</th>\n",
       "      <th>Tweet_ID</th>\n",
       "      <th>Favourite_counts</th>\n",
       "      <th>Retweets_counts</th>\n",
       "      <th>Content</th>\n",
       "    </tr>\n",
       "  </thead>\n",
       "  <tbody>\n",
       "    <tr>\n",
       "      <th>2692</th>\n",
       "      <td>2692</td>\n",
       "      <td>2015-12-26 03:52:06+00:00</td>\n",
       "      <td>680596923552772097</td>\n",
       "      <td>123</td>\n",
       "      <td>60</td>\n",
       "      <td>WOW! Thank you for using Vivino. https://t.co/...</td>\n",
       "    </tr>\n",
       "    <tr>\n",
       "      <th>1661</th>\n",
       "      <td>1661</td>\n",
       "      <td>2016-07-22 14:05:04+00:00</td>\n",
       "      <td>756490247505006592</td>\n",
       "      <td>87</td>\n",
       "      <td>54</td>\n",
       "      <td>Portrait of a #winelover after a very long wee...</td>\n",
       "    </tr>\n",
       "    <tr>\n",
       "      <th>478</th>\n",
       "      <td>478</td>\n",
       "      <td>2018-08-14 01:07:05+00:00</td>\n",
       "      <td>1029172522602909699</td>\n",
       "      <td>79</td>\n",
       "      <td>21</td>\n",
       "      <td>Let’s pop some bottles to celebrate 100 millio...</td>\n",
       "    </tr>\n",
       "    <tr>\n",
       "      <th>196</th>\n",
       "      <td>196</td>\n",
       "      <td>2019-07-25 00:59:18+00:00</td>\n",
       "      <td>1154194381047398400</td>\n",
       "      <td>75</td>\n",
       "      <td>3</td>\n",
       "      <td>Looks like @DwyaneWade has a new signature mov...</td>\n",
       "    </tr>\n",
       "    <tr>\n",
       "      <th>595</th>\n",
       "      <td>595</td>\n",
       "      <td>2017-12-26 21:58:57+00:00</td>\n",
       "      <td>945775968106532866</td>\n",
       "      <td>71</td>\n",
       "      <td>10</td>\n",
       "      <td>We saw a record 2.2 million scans on Christmas...</td>\n",
       "    </tr>\n",
       "  </tbody>\n",
       "</table>\n",
       "</div>"
      ],
      "text/plain": [
       "      Unnamed: 0               Created_time             Tweet_ID  \\\n",
       "2692        2692  2015-12-26 03:52:06+00:00   680596923552772097   \n",
       "1661        1661  2016-07-22 14:05:04+00:00   756490247505006592   \n",
       "478          478  2018-08-14 01:07:05+00:00  1029172522602909699   \n",
       "196          196  2019-07-25 00:59:18+00:00  1154194381047398400   \n",
       "595          595  2017-12-26 21:58:57+00:00   945775968106532866   \n",
       "\n",
       "      Favourite_counts  Retweets_counts  \\\n",
       "2692               123               60   \n",
       "1661                87               54   \n",
       "478                 79               21   \n",
       "196                 75                3   \n",
       "595                 71               10   \n",
       "\n",
       "                                                Content  \n",
       "2692  WOW! Thank you for using Vivino. https://t.co/...  \n",
       "1661  Portrait of a #winelover after a very long wee...  \n",
       "478   Let’s pop some bottles to celebrate 100 millio...  \n",
       "196   Looks like @DwyaneWade has a new signature mov...  \n",
       "595   We saw a record 2.2 million scans on Christmas...  "
      ]
     },
     "execution_count": 9,
     "metadata": {},
     "output_type": "execute_result"
    }
   ],
   "source": [
    "vivinodf = vivinodf.sort_values(by=['Favourite_counts'],ascending=False)\n",
    "vivinodf.head()"
   ]
  },
  {
   "cell_type": "code",
   "execution_count": 10,
   "id": "fd6c14b8",
   "metadata": {
    "ExecuteTime": {
     "end_time": "2022-11-04T08:53:10.935137Z",
     "start_time": "2022-11-04T08:53:10.931828Z"
    }
   },
   "outputs": [],
   "source": [
    "#Keep the 100th which have the most fovorite counts\n",
    "vivinodf_fav = vivinodf[:100]\n",
    "ids = vivinodf_fav['Tweet_ID'].tolist()"
   ]
  },
  {
   "cell_type": "markdown",
   "id": "0bd24273",
   "metadata": {},
   "source": [
    "We generate a list of those Tweet_IDs as the identification in order to find all of those users. However, due to the limits restriction, we can only use the single id to search. So we choose the top 5 favoriate list and then combine them together."
   ]
  },
  {
   "cell_type": "code",
   "execution_count": 29,
   "id": "e3497fa5",
   "metadata": {
    "ExecuteTime": {
     "end_time": "2022-11-02T22:22:33.683620Z",
     "start_time": "2022-11-02T22:22:33.661480Z"
    }
   },
   "outputs": [],
   "source": [
    "# Find the Liking Users identified by tweet id\n",
    "\n",
    "liking_user = tweepy.Paginator(client.get_liking_users,\n",
    "                              id= '680596923552772097',\n",
    "                              user_fields = ['id','location','name'],\n",
    "                              max_results = 100)\n",
    "    \n",
    "    "
   ]
  },
  {
   "cell_type": "code",
   "execution_count": 30,
   "id": "c07561d5",
   "metadata": {
    "ExecuteTime": {
     "end_time": "2022-11-02T22:22:36.190416Z",
     "start_time": "2022-11-02T22:22:35.149468Z"
    }
   },
   "outputs": [],
   "source": [
    "user_ID =[]\n",
    "location = []\n",
    "name = []\n",
    "\n",
    "for user in liking_user.flatten():\n",
    "        \n",
    "        id = str(user[\"id\"])\n",
    "        user_ID.append(id)\n",
    "    \n",
    "        loc = str(user[\"location\"])\n",
    "        location.append(loc)\n",
    "    \n",
    "        na = str(user[\"name\"])\n",
    "        name.append(na)\n",
    "    "
   ]
  },
  {
   "cell_type": "code",
   "execution_count": 32,
   "id": "efd1227b",
   "metadata": {
    "ExecuteTime": {
     "end_time": "2022-11-02T22:24:47.592064Z",
     "start_time": "2022-11-02T22:24:47.587237Z"
    }
   },
   "outputs": [
    {
     "data": {
      "text/plain": [
       "115"
      ]
     },
     "execution_count": 32,
     "metadata": {},
     "output_type": "execute_result"
    }
   ],
   "source": [
    "fav_1 = pd.DataFrame({\"user_ID\":user_ID,\"location\": location,\"name\": name})\n",
    "len(fav_1)"
   ]
  },
  {
   "cell_type": "code",
   "execution_count": 40,
   "id": "c794c842",
   "metadata": {
    "ExecuteTime": {
     "end_time": "2022-11-02T22:31:53.539213Z",
     "start_time": "2022-11-02T22:31:52.827663Z"
    }
   },
   "outputs": [
    {
     "data": {
      "text/plain": [
       "80"
      ]
     },
     "execution_count": 40,
     "metadata": {},
     "output_type": "execute_result"
    }
   ],
   "source": [
    "#Repeat the process for five times\n",
    "user_ID =[]\n",
    "location = []\n",
    "name = []\n",
    "\n",
    "liking_user2 = tweepy.Paginator(client.get_liking_users,\n",
    "                              id= '756490247505006592',\n",
    "                              user_fields = ['id','location','name'],\n",
    "                              max_results = 80)\n",
    "\n",
    "for user in liking_user2.flatten():\n",
    "        \n",
    "        id = str(user[\"id\"])\n",
    "        user_ID.append(id)\n",
    "    \n",
    "        loc = str(user[\"location\"])\n",
    "        location.append(loc)\n",
    "    \n",
    "        na = str(user[\"name\"])\n",
    "        name.append(na)\n",
    "\n",
    "fav_2 = pd.DataFrame({\"user_ID\":user_ID,\"location\": location,\"name\": name})\n",
    "len(fav_2)"
   ]
  },
  {
   "cell_type": "code",
   "execution_count": 41,
   "id": "8ee9ea86",
   "metadata": {
    "ExecuteTime": {
     "end_time": "2022-11-02T22:32:04.193350Z",
     "start_time": "2022-11-02T22:32:03.646101Z"
    }
   },
   "outputs": [
    {
     "data": {
      "text/plain": [
       "75"
      ]
     },
     "execution_count": 41,
     "metadata": {},
     "output_type": "execute_result"
    }
   ],
   "source": [
    "\n",
    "user_ID =[]\n",
    "location = []\n",
    "name = []\n",
    "\n",
    "liking_user3 = tweepy.Paginator(client.get_liking_users,\n",
    "                              id= '1029172522602909699',\n",
    "                              user_fields = ['id','location','name'],\n",
    "                              max_results = 80)\n",
    "\n",
    "for user in liking_user3.flatten():\n",
    "        \n",
    "        id = str(user[\"id\"])\n",
    "        user_ID.append(id)\n",
    "    \n",
    "        loc = str(user[\"location\"])\n",
    "        location.append(loc)\n",
    "    \n",
    "        na = str(user[\"name\"])\n",
    "        name.append(na)\n",
    "\n",
    "fav_3 = pd.DataFrame({\"user_ID\":user_ID,\"location\": location,\"name\": name})\n",
    "len(fav_3)"
   ]
  },
  {
   "cell_type": "code",
   "execution_count": 42,
   "id": "7ab5178c",
   "metadata": {
    "ExecuteTime": {
     "end_time": "2022-11-02T22:33:12.089191Z",
     "start_time": "2022-11-02T22:33:11.572526Z"
    }
   },
   "outputs": [
    {
     "data": {
      "text/plain": [
       "66"
      ]
     },
     "execution_count": 42,
     "metadata": {},
     "output_type": "execute_result"
    }
   ],
   "source": [
    "user_ID =[]\n",
    "location = []\n",
    "name = []\n",
    "\n",
    "liking_user4 = tweepy.Paginator(client.get_liking_users,\n",
    "                              id= '1154194381047398400',\n",
    "                              user_fields = ['id','location','name'],\n",
    "                              max_results = 80)\n",
    "\n",
    "for user in liking_user4.flatten():\n",
    "        \n",
    "        id = str(user[\"id\"])\n",
    "        user_ID.append(id)\n",
    "    \n",
    "        loc = str(user[\"location\"])\n",
    "        location.append(loc)\n",
    "    \n",
    "        na = str(user[\"name\"])\n",
    "        name.append(na)\n",
    "\n",
    "fav_4 = pd.DataFrame({\"user_ID\":user_ID,\"location\": location,\"name\": name})\n",
    "len(fav_4)"
   ]
  },
  {
   "cell_type": "code",
   "execution_count": 43,
   "id": "e2befa46",
   "metadata": {
    "ExecuteTime": {
     "end_time": "2022-11-02T22:33:45.991173Z",
     "start_time": "2022-11-02T22:33:45.332656Z"
    }
   },
   "outputs": [
    {
     "data": {
      "text/plain": [
       "66"
      ]
     },
     "execution_count": 43,
     "metadata": {},
     "output_type": "execute_result"
    }
   ],
   "source": [
    "user_ID =[]\n",
    "location = []\n",
    "name = []\n",
    "\n",
    "liking_user5 = tweepy.Paginator(client.get_liking_users,\n",
    "                              id= '945775968106532866',\n",
    "                              user_fields = ['id','location','name'],\n",
    "                              max_results = 80)\n",
    "\n",
    "for user in liking_user5.flatten():\n",
    "        \n",
    "        id = str(user[\"id\"])\n",
    "        user_ID.append(id)\n",
    "    \n",
    "        loc = str(user[\"location\"])\n",
    "        location.append(loc)\n",
    "    \n",
    "        na = str(user[\"name\"])\n",
    "        name.append(na)\n",
    "\n",
    "fav_5 = pd.DataFrame({\"user_ID\":user_ID,\"location\": location,\"name\": name})\n",
    "len(fav_5)"
   ]
  },
  {
   "cell_type": "code",
   "execution_count": 46,
   "id": "51ef381d",
   "metadata": {
    "ExecuteTime": {
     "end_time": "2022-11-02T22:37:03.888564Z",
     "start_time": "2022-11-02T22:37:03.793923Z"
    }
   },
   "outputs": [],
   "source": [
    "# Merge together\n",
    "fav_users = pd.concat([fav_1,fav_2,fav_3,fav_4,fav_5])\n",
    "fav_users.to_csv(\"likingUsers\")"
   ]
  },
  {
   "cell_type": "code",
   "execution_count": 49,
   "id": "f1c34485",
   "metadata": {
    "ExecuteTime": {
     "end_time": "2022-11-02T22:38:52.527138Z",
     "start_time": "2022-11-02T22:38:52.519035Z"
    }
   },
   "outputs": [
    {
     "data": {
      "text/plain": [
       "402"
      ]
     },
     "execution_count": 49,
     "metadata": {},
     "output_type": "execute_result"
    }
   ],
   "source": [
    "len(fav_users)"
   ]
  },
  {
   "cell_type": "code",
   "execution_count": 52,
   "id": "7085f3f3",
   "metadata": {
    "ExecuteTime": {
     "end_time": "2022-11-02T22:39:43.315486Z",
     "start_time": "2022-11-02T22:39:43.307679Z"
    }
   },
   "outputs": [
    {
     "data": {
      "text/plain": [
       "389"
      ]
     },
     "execution_count": 52,
     "metadata": {},
     "output_type": "execute_result"
    }
   ],
   "source": [
    "fav_users1 = fav_users.drop_duplicates()\n",
    "len(fav_users1)"
   ]
  },
  {
   "cell_type": "markdown",
   "id": "29e90187",
   "metadata": {},
   "source": [
    "### Explore the location of the liking users"
   ]
  },
  {
   "cell_type": "code",
   "execution_count": 73,
   "id": "87c5198c",
   "metadata": {
    "ExecuteTime": {
     "end_time": "2022-11-02T22:54:01.059115Z",
     "start_time": "2022-11-02T22:54:01.041884Z"
    }
   },
   "outputs": [
    {
     "data": {
      "text/html": [
       "<div>\n",
       "<style scoped>\n",
       "    .dataframe tbody tr th:only-of-type {\n",
       "        vertical-align: middle;\n",
       "    }\n",
       "\n",
       "    .dataframe tbody tr th {\n",
       "        vertical-align: top;\n",
       "    }\n",
       "\n",
       "    .dataframe thead th {\n",
       "        text-align: right;\n",
       "    }\n",
       "</style>\n",
       "<table border=\"1\" class=\"dataframe\">\n",
       "  <thead>\n",
       "    <tr style=\"text-align: right;\">\n",
       "      <th></th>\n",
       "      <th>location</th>\n",
       "      <th>count</th>\n",
       "    </tr>\n",
       "    <tr>\n",
       "      <th>location</th>\n",
       "      <th></th>\n",
       "      <th></th>\n",
       "    </tr>\n",
       "  </thead>\n",
       "  <tbody>\n",
       "    <tr>\n",
       "      <th>London, England</th>\n",
       "      <td>5</td>\n",
       "      <td>5</td>\n",
       "    </tr>\n",
       "    <tr>\n",
       "      <th>None</th>\n",
       "      <td>87</td>\n",
       "      <td>87</td>\n",
       "    </tr>\n",
       "    <tr>\n",
       "      <th>San Francisco, CA</th>\n",
       "      <td>5</td>\n",
       "      <td>5</td>\n",
       "    </tr>\n",
       "  </tbody>\n",
       "</table>\n",
       "</div>"
      ],
      "text/plain": [
       "                   location  count\n",
       "location                          \n",
       "London, England           5      5\n",
       "None                     87     87\n",
       "San Francisco, CA         5      5"
      ]
     },
     "execution_count": 73,
     "metadata": {},
     "output_type": "execute_result"
    }
   ],
   "source": [
    "fav_users_loc['count'] = pd.DataFrame(fav_users1.groupby('location')['location'].count())\n",
    "fav_users_loc = fav_users_loc[fav_users_loc['count'] >= 5]\n",
    "fav_users_loc"
   ]
  },
  {
   "cell_type": "markdown",
   "id": "04c9ff30",
   "metadata": {},
   "source": [
    "Here, we try to identify the most popular regions for those liking users. However, their location name are too different. We cannot explore through this way. But at a galance, the USA, UK, CA, and FR could be considered as the most popular countries."
   ]
  },
  {
   "cell_type": "markdown",
   "id": "9e14aad4",
   "metadata": {},
   "source": [
    "## Collecting the tweets information of past seven days"
   ]
  },
  {
   "cell_type": "code",
   "execution_count": 14,
   "id": "7a60dc7c",
   "metadata": {
    "ExecuteTime": {
     "end_time": "2022-11-04T08:55:28.093878Z",
     "start_time": "2022-11-04T08:55:25.808445Z"
    }
   },
   "outputs": [],
   "source": [
    "\n",
    "tweets = tweepy.Paginator(client.search_recent_tweets,\n",
    "                              query=\"vivino.com -is:retweet\",\n",
    "                              tweet_fields=[\"created_at\",\"lang\",\"geo\"],\n",
    "                              expansions=['author_id'],\n",
    "                              max_results=100)\n",
    "\n",
    "created_time = []\n",
    "language = []\n",
    "content = []\n",
    "user_name = []\n",
    "location = []\n",
    "\n",
    "for page in tweets:\n",
    "    page_users = {user.id: user for user in page.includes['users']} # We create a dictionary indexed by the user id to easily retrieve the full user object of each tweet\n",
    "    for tweet in page.data:\n",
    "        \n",
    "        ct = str(tweet.created_at)\n",
    "        created_time.append(ct)\n",
    "        \n",
    "        lang = str(tweet.lang)\n",
    "        language.append(lang)\n",
    "        \n",
    "        loc = str(tweet.geo)\n",
    "        location.append(loc)\n",
    "        \n",
    "        text = tweet.text\n",
    "        content.append(text)\n",
    "        \n",
    "        name = page_users[tweet.author_id].name\n",
    "        user_name.append(name)\n",
    "        \n",
    "        "
   ]
  },
  {
   "cell_type": "code",
   "execution_count": 15,
   "id": "e4809eb3",
   "metadata": {
    "ExecuteTime": {
     "end_time": "2022-11-04T08:55:28.147485Z",
     "start_time": "2022-11-04T08:55:28.137590Z"
    }
   },
   "outputs": [
    {
     "data": {
      "text/html": [
       "<div>\n",
       "<style scoped>\n",
       "    .dataframe tbody tr th:only-of-type {\n",
       "        vertical-align: middle;\n",
       "    }\n",
       "\n",
       "    .dataframe tbody tr th {\n",
       "        vertical-align: top;\n",
       "    }\n",
       "\n",
       "    .dataframe thead th {\n",
       "        text-align: right;\n",
       "    }\n",
       "</style>\n",
       "<table border=\"1\" class=\"dataframe\">\n",
       "  <thead>\n",
       "    <tr style=\"text-align: right;\">\n",
       "      <th></th>\n",
       "      <th>created_time</th>\n",
       "      <th>language</th>\n",
       "      <th>content</th>\n",
       "      <th>user_name</th>\n",
       "      <th>location</th>\n",
       "    </tr>\n",
       "  </thead>\n",
       "  <tbody>\n",
       "    <tr>\n",
       "      <th>365</th>\n",
       "      <td>2022-10-28 13:50:25+00:00</td>\n",
       "      <td>ja</td>\n",
       "      <td>サラッコモスカートダスティのグラッパ！\\n香りアロマを高く感じるね。 https://t.c...</td>\n",
       "      <td>kioske</td>\n",
       "      <td>None</td>\n",
       "    </tr>\n",
       "    <tr>\n",
       "      <th>366</th>\n",
       "      <td>2022-10-28 11:58:46+00:00</td>\n",
       "      <td>ja</td>\n",
       "      <td>スパイス。おだやかなタンニン。黒果実。ミント。バランス。もう少し熟成してもいいかも。。Win...</td>\n",
       "      <td>kioske</td>\n",
       "      <td>None</td>\n",
       "    </tr>\n",
       "    <tr>\n",
       "      <th>367</th>\n",
       "      <td>2022-10-28 11:33:54+00:00</td>\n",
       "      <td>es</td>\n",
       "      <td>Maceración carbónica 😗👌.Wine en Ortega Ezquerr...</td>\n",
       "      <td>Celia G.-</td>\n",
       "      <td>None</td>\n",
       "    </tr>\n",
       "    <tr>\n",
       "      <th>368</th>\n",
       "      <td>2022-10-28 11:08:00+00:00</td>\n",
       "      <td>ja</td>\n",
       "      <td>酸味勝ち。軽くて飲みやすいです。。Wine の @carolinawines。Vivinoで...</td>\n",
       "      <td>えりすこ</td>\n",
       "      <td>None</td>\n",
       "    </tr>\n",
       "    <tr>\n",
       "      <th>369</th>\n",
       "      <td>2022-10-28 09:58:49+00:00</td>\n",
       "      <td>ja</td>\n",
       "      <td>すごい香りがイイ\\n\\nCielo e TerraのワインをVivinoアプリでスキャンしま...</td>\n",
       "      <td>かぴおか</td>\n",
       "      <td>None</td>\n",
       "    </tr>\n",
       "  </tbody>\n",
       "</table>\n",
       "</div>"
      ],
      "text/plain": [
       "                  created_time language  \\\n",
       "365  2022-10-28 13:50:25+00:00       ja   \n",
       "366  2022-10-28 11:58:46+00:00       ja   \n",
       "367  2022-10-28 11:33:54+00:00       es   \n",
       "368  2022-10-28 11:08:00+00:00       ja   \n",
       "369  2022-10-28 09:58:49+00:00       ja   \n",
       "\n",
       "                                               content  user_name location  \n",
       "365  サラッコモスカートダスティのグラッパ！\\n香りアロマを高く感じるね。 https://t.c...     kioske     None  \n",
       "366  スパイス。おだやかなタンニン。黒果実。ミント。バランス。もう少し熟成してもいいかも。。Win...     kioske     None  \n",
       "367  Maceración carbónica 😗👌.Wine en Ortega Ezquerr...  Celia G.-     None  \n",
       "368  酸味勝ち。軽くて飲みやすいです。。Wine の @carolinawines。Vivinoで...       えりすこ     None  \n",
       "369  すごい香りがイイ\\n\\nCielo e TerraのワインをVivinoアプリでスキャンしま...       かぴおか     None  "
      ]
     },
     "execution_count": 15,
     "metadata": {},
     "output_type": "execute_result"
    }
   ],
   "source": [
    "tweets = pd.DataFrame({\"created_time\": created_time, \"language\": language, \"content\": content, \"user_name\":user_name,\"location\": location})\n",
    "tweets.tail()"
   ]
  },
  {
   "cell_type": "markdown",
   "id": "f6948d37",
   "metadata": {},
   "source": [
    "### Find the regions of them"
   ]
  },
  {
   "cell_type": "code",
   "execution_count": 22,
   "id": "a37fb10f",
   "metadata": {
    "ExecuteTime": {
     "end_time": "2022-11-04T08:58:13.035281Z",
     "start_time": "2022-11-04T08:58:13.024298Z"
    }
   },
   "outputs": [],
   "source": [
    "tweets_reg = pd.DataFrame(tweets.groupby('language')['language'].count())\n",
    "tweets_reg ['count'] = pd.DataFrame(tweets.groupby('language')['language'].count())\n"
   ]
  },
  {
   "cell_type": "code",
   "execution_count": 53,
   "id": "9cb6c6e3",
   "metadata": {
    "ExecuteTime": {
     "end_time": "2022-11-04T09:18:55.754780Z",
     "start_time": "2022-11-04T09:18:55.747638Z"
    }
   },
   "outputs": [],
   "source": [
    "tweets_reg.sort_values(by ='count', ascending = False).head()\n",
    "tweets_reg.to_csv(\"tweets_reg.csv\")"
   ]
  },
  {
   "cell_type": "code",
   "execution_count": 55,
   "id": "d9133734",
   "metadata": {
    "ExecuteTime": {
     "end_time": "2022-11-04T09:24:41.614311Z",
     "start_time": "2022-11-04T09:24:41.412965Z"
    }
   },
   "outputs": [
    {
     "name": "stderr",
     "output_type": "stream",
     "text": [
      "/Users/zhao/opt/anaconda3/lib/python3.9/site-packages/seaborn/_decorators.py:36: FutureWarning: Pass the following variables as keyword args: x, y. From version 0.12, the only valid positional argument will be `data`, and passing other arguments without an explicit keyword will result in an error or misinterpretation.\n",
      "  warnings.warn(\n"
     ]
    },
    {
     "data": {
      "image/png": "[encoded data removed]",
      "text/plain": [
       "<Figure size 720x432 with 1 Axes>"
      ]
     },
     "metadata": {
      "needs_background": "light"
     },
     "output_type": "display_data"
    }
   ],
   "source": [
    "plt.figure(figsize=(10, 6))\n",
    "p = sns.barplot(tweets_reg.index, tweets_reg['count'], data = tweets_reg, palette = \"Blues\")\n",
    "p.set_title(\"Different Language Speaking Users in Past seven-day Tweets\")\n",
    "plt.show()"
   ]
  },
  {
   "cell_type": "code",
   "execution_count": 26,
   "id": "3f507cf2",
   "metadata": {
    "ExecuteTime": {
     "end_time": "2022-11-04T08:59:07.947085Z",
     "start_time": "2022-11-04T08:59:07.846667Z"
    }
   },
   "outputs": [],
   "source": [
    "sns.barplot?"
   ]
  },
  {
   "cell_type": "markdown",
   "id": "d3351a86",
   "metadata": {},
   "source": [
    "According to the result, people in English-speaking, Spaish-speaking, Portuguese-speaking, Italian-speaking, and the Japanese-speaking contries are most likely to use the e-commercial web of vivino.com."
   ]
  },
  {
   "cell_type": "markdown",
   "id": "2d4531a2",
   "metadata": {},
   "source": [
    "# Google Trend Data"
   ]
  },
  {
   "cell_type": "markdown",
   "id": "daaf4fe9",
   "metadata": {},
   "source": [
    "Since the data limits for the past information, we will use the google trend of 'search volume' as another indicator to see whether there was relationship between the engagement of tweets and the potential sales volume. "
   ]
  },
  {
   "cell_type": "markdown",
   "id": "98b26e87",
   "metadata": {},
   "source": [
    "Also, based on the current information, we will choose the country of \"US\",\"CA\", \"UK\", \"PT\", and \"IT\"."
   ]
  },
  {
   "cell_type": "code",
   "execution_count": 90,
   "id": "fb702694",
   "metadata": {
    "ExecuteTime": {
     "end_time": "2022-11-03T00:03:03.223231Z",
     "start_time": "2022-11-03T00:03:03.158887Z"
    }
   },
   "outputs": [],
   "source": [
    "from pytrends.request import TrendReq "
   ]
  },
  {
   "cell_type": "code",
   "execution_count": 92,
   "id": "f0e69f3a",
   "metadata": {
    "ExecuteTime": {
     "end_time": "2022-11-03T00:05:33.751979Z",
     "start_time": "2022-11-03T00:05:30.178855Z"
    }
   },
   "outputs": [
    {
     "data": {
      "text/plain": [
       "[            vivino geo\n",
       " date                  \n",
       " 2016-01-03      41  US\n",
       " 2016-01-10      64  US\n",
       " 2016-01-17      52  US\n",
       " 2016-01-24      63  US\n",
       " 2016-01-31      48  US\n",
       " 2016-02-07      50  US\n",
       " 2016-02-14      57  US\n",
       " 2016-02-21      67  US\n",
       " 2016-02-28      68  US\n",
       " 2016-03-06      41  US\n",
       " 2016-03-13      27  US\n",
       " 2016-03-20      49  US\n",
       " 2016-03-27      50  US\n",
       " 2016-04-03      41  US\n",
       " 2016-04-10      31  US\n",
       " 2016-04-17      46  US\n",
       " 2016-04-24      50  US\n",
       " 2016-05-01      50  US\n",
       " 2016-05-08      24  US\n",
       " 2016-05-15      43  US\n",
       " 2016-05-22      48  US\n",
       " 2016-05-29      41  US\n",
       " 2016-06-05      36  US\n",
       " 2016-06-12      44  US\n",
       " 2016-06-19      38  US\n",
       " 2016-06-26      62  US\n",
       " 2016-07-03      32  US\n",
       " 2016-07-10      42  US\n",
       " 2016-07-17      53  US\n",
       " 2016-07-24      46  US\n",
       " 2016-07-31      58  US\n",
       " 2016-08-07      34  US\n",
       " 2016-08-14      33  US\n",
       " 2016-08-21      53  US\n",
       " 2016-08-28      58  US\n",
       " 2016-09-04      51  US\n",
       " 2016-09-11      31  US\n",
       " 2016-09-18      43  US\n",
       " 2016-09-25      52  US\n",
       " 2016-10-02      37  US\n",
       " 2016-10-09      51  US\n",
       " 2016-10-16      47  US\n",
       " 2016-10-23      87  US\n",
       " 2016-10-30      40  US\n",
       " 2016-11-06      30  US\n",
       " 2016-11-13      51  US\n",
       " 2016-11-20      44  US\n",
       " 2016-11-27      59  US\n",
       " 2016-12-04      52  US\n",
       " 2016-12-11      74  US\n",
       " 2016-12-18     100  US\n",
       " 2016-12-25      78  US,\n",
       "             vivino geo\n",
       " date                  \n",
       " 2016-01-03      25  CA\n",
       " 2016-01-10      30  CA\n",
       " 2016-01-17      48  CA\n",
       " 2016-01-24      52  CA\n",
       " 2016-01-31       0  CA\n",
       " 2016-02-07       0  CA\n",
       " 2016-02-14      23  CA\n",
       " 2016-02-21       0  CA\n",
       " 2016-02-28      22  CA\n",
       " 2016-03-06       0  CA\n",
       " 2016-03-13      19  CA\n",
       " 2016-03-20      21  CA\n",
       " 2016-03-27      24  CA\n",
       " 2016-04-03      31  CA\n",
       " 2016-04-10      15  CA\n",
       " 2016-04-17      28  CA\n",
       " 2016-04-24      17  CA\n",
       " 2016-05-01      38  CA\n",
       " 2016-05-08      31  CA\n",
       " 2016-05-15       0  CA\n",
       " 2016-05-22      38  CA\n",
       " 2016-05-29       0  CA\n",
       " 2016-06-05      34  CA\n",
       " 2016-06-12       0  CA\n",
       " 2016-06-19       0  CA\n",
       " 2016-06-26      16  CA\n",
       " 2016-07-03       0  CA\n",
       " 2016-07-10       0  CA\n",
       " 2016-07-17     100  CA\n",
       " 2016-07-24       0  CA\n",
       " 2016-07-31      21  CA\n",
       " 2016-08-07       0  CA\n",
       " 2016-08-14      39  CA\n",
       " 2016-08-21      32  CA\n",
       " 2016-08-28      16  CA\n",
       " 2016-09-04       0  CA\n",
       " 2016-09-11      75  CA\n",
       " 2016-09-18      22  CA\n",
       " 2016-09-25      29  CA\n",
       " 2016-10-02       0  CA\n",
       " 2016-10-09      25  CA\n",
       " 2016-10-16      37  CA\n",
       " 2016-10-23      30  CA\n",
       " 2016-10-30      23  CA\n",
       " 2016-11-06       0  CA\n",
       " 2016-11-13       0  CA\n",
       " 2016-11-20      44  CA\n",
       " 2016-11-27       0  CA\n",
       " 2016-12-04       0  CA\n",
       " 2016-12-11      20  CA\n",
       " 2016-12-18      39  CA\n",
       " 2016-12-25      42  CA,\n",
       "             vivino geo\n",
       " date                  \n",
       " 2016-01-03      40  GB\n",
       " 2016-01-10      35  GB\n",
       " 2016-01-17       0  GB\n",
       " 2016-01-24      45  GB\n",
       " 2016-01-31      37  GB\n",
       " 2016-02-07      25  GB\n",
       " 2016-02-14      87  GB\n",
       " 2016-02-21      37  GB\n",
       " 2016-02-28       0  GB\n",
       " 2016-03-06      96  GB\n",
       " 2016-03-13      49  GB\n",
       " 2016-03-20      16  GB\n",
       " 2016-03-27       0  GB\n",
       " 2016-04-03      25  GB\n",
       " 2016-04-10      57  GB\n",
       " 2016-04-17      41  GB\n",
       " 2016-04-24      70  GB\n",
       " 2016-05-01      49  GB\n",
       " 2016-05-08      49  GB\n",
       " 2016-05-15      50  GB\n",
       " 2016-05-22      30  GB\n",
       " 2016-05-29      40  GB\n",
       " 2016-06-05      34  GB\n",
       " 2016-06-12       0  GB\n",
       " 2016-06-19      19  GB\n",
       " 2016-06-26      30  GB\n",
       " 2016-07-03      23  GB\n",
       " 2016-07-10      20  GB\n",
       " 2016-07-17      19  GB\n",
       " 2016-07-24      45  GB\n",
       " 2016-07-31       0  GB\n",
       " 2016-08-07      50  GB\n",
       " 2016-08-14      40  GB\n",
       " 2016-08-21       0  GB\n",
       " 2016-08-28      38  GB\n",
       " 2016-09-04       0  GB\n",
       " 2016-09-11     100  GB\n",
       " 2016-09-18      45  GB\n",
       " 2016-09-25      26  GB\n",
       " 2016-10-02      53  GB\n",
       " 2016-10-09      45  GB\n",
       " 2016-10-16       0  GB\n",
       " 2016-10-23      34  GB\n",
       " 2016-10-30      19  GB\n",
       " 2016-11-06      64  GB\n",
       " 2016-11-13      42  GB\n",
       " 2016-11-20      29  GB\n",
       " 2016-11-27      60  GB\n",
       " 2016-12-04      60  GB\n",
       " 2016-12-11      68  GB\n",
       " 2016-12-18      83  GB\n",
       " 2016-12-25       0  GB,\n",
       "             vivino geo\n",
       " date                  \n",
       " 2016-01-03      38  PT\n",
       " 2016-01-10      21  PT\n",
       " 2016-01-17      45  PT\n",
       " 2016-01-24      17  PT\n",
       " 2016-01-31       0  PT\n",
       " 2016-02-07      18  PT\n",
       " 2016-02-14      28  PT\n",
       " 2016-02-21      28  PT\n",
       " 2016-02-28       0  PT\n",
       " 2016-03-06       0  PT\n",
       " 2016-03-13       0  PT\n",
       " 2016-03-20       0  PT\n",
       " 2016-03-27       0  PT\n",
       " 2016-04-03       0  PT\n",
       " 2016-04-10     100  PT\n",
       " 2016-04-17       0  PT\n",
       " 2016-04-24       0  PT\n",
       " 2016-05-01       0  PT\n",
       " 2016-05-08      21  PT\n",
       " 2016-05-15       0  PT\n",
       " 2016-05-22      60  PT\n",
       " 2016-05-29      39  PT\n",
       " 2016-06-05       0  PT\n",
       " 2016-06-12       0  PT\n",
       " 2016-06-19      42  PT\n",
       " 2016-06-26       0  PT\n",
       " 2016-07-03      64  PT\n",
       " 2016-07-10       0  PT\n",
       " 2016-07-17      21  PT\n",
       " 2016-07-24       0  PT\n",
       " 2016-07-31       0  PT\n",
       " 2016-08-07       0  PT\n",
       " 2016-08-14      25  PT\n",
       " 2016-08-21      45  PT\n",
       " 2016-08-28      45  PT\n",
       " 2016-09-04      40  PT\n",
       " 2016-09-11       0  PT\n",
       " 2016-09-18       0  PT\n",
       " 2016-09-25       0  PT\n",
       " 2016-10-02      92  PT\n",
       " 2016-10-09      37  PT\n",
       " 2016-10-16      54  PT\n",
       " 2016-10-23       0  PT\n",
       " 2016-10-30       0  PT\n",
       " 2016-11-06      59  PT\n",
       " 2016-11-13      38  PT\n",
       " 2016-11-20       0  PT\n",
       " 2016-11-27      18  PT\n",
       " 2016-12-04      48  PT\n",
       " 2016-12-11       0  PT\n",
       " 2016-12-18      49  PT\n",
       " 2016-12-25      65  PT,\n",
       "             vivino geo\n",
       " date                  \n",
       " 2016-01-03      82  IT\n",
       " 2016-01-10      49  IT\n",
       " 2016-01-17      22  IT\n",
       " 2016-01-24      64  IT\n",
       " 2016-01-31      41  IT\n",
       " 2016-02-07      87  IT\n",
       " 2016-02-14      59  IT\n",
       " 2016-02-21      70  IT\n",
       " 2016-02-28      43  IT\n",
       " 2016-03-06      33  IT\n",
       " 2016-03-13      42  IT\n",
       " 2016-03-20      53  IT\n",
       " 2016-03-27      88  IT\n",
       " 2016-04-03      52  IT\n",
       " 2016-04-10      57  IT\n",
       " 2016-04-17      45  IT\n",
       " 2016-04-24      67  IT\n",
       " 2016-05-01      65  IT\n",
       " 2016-05-08      60  IT\n",
       " 2016-05-15      50  IT\n",
       " 2016-05-22      60  IT\n",
       " 2016-05-29      77  IT\n",
       " 2016-06-05      76  IT\n",
       " 2016-06-12      83  IT\n",
       " 2016-06-19      63  IT\n",
       " 2016-06-26      60  IT\n",
       " 2016-07-03      67  IT\n",
       " 2016-07-10      54  IT\n",
       " 2016-07-17      93  IT\n",
       " 2016-07-24      45  IT\n",
       " 2016-07-31      61  IT\n",
       " 2016-08-07     100  IT\n",
       " 2016-08-14      79  IT\n",
       " 2016-08-21      17  IT\n",
       " 2016-08-28      45  IT\n",
       " 2016-09-04      77  IT\n",
       " 2016-09-11      39  IT\n",
       " 2016-09-18      40  IT\n",
       " 2016-09-25      54  IT\n",
       " 2016-10-02      69  IT\n",
       " 2016-10-09      30  IT\n",
       " 2016-10-16      52  IT\n",
       " 2016-10-23      51  IT\n",
       " 2016-10-30      51  IT\n",
       " 2016-11-06      57  IT\n",
       " 2016-11-13      71  IT\n",
       " 2016-11-20      59  IT\n",
       " 2016-11-27      50  IT\n",
       " 2016-12-04      57  IT\n",
       " 2016-12-11      95  IT\n",
       " 2016-12-18      90  IT\n",
       " 2016-12-25      90  IT]"
      ]
     },
     "execution_count": 92,
     "metadata": {},
     "output_type": "execute_result"
    }
   ],
   "source": [
    "pytrend = TrendReq()\n",
    "colnames = [\"keywords\"]\n",
    "\n",
    "dataset = []\n",
    "for geo_code in ['US','CA','GB','PT','IT']:\n",
    "        keywords = ['vivino']\n",
    "        pytrend.build_payload(\n",
    "        kw_list=keywords,\n",
    "        cat=0,\n",
    "        timeframe='2016-01-01 2016-12-31',\n",
    "        geo=geo_code)\n",
    "        data = pytrend.interest_over_time()\n",
    "        if not data.empty:\n",
    "            data = data.drop(labels=['isPartial'],axis='columns')\n",
    "            data['geo']=geo_code\n",
    "            dataset.append(data)\n",
    "            \n",
    "dataset"
   ]
  },
  {
   "cell_type": "code",
   "execution_count": 94,
   "id": "6f40425a",
   "metadata": {
    "ExecuteTime": {
     "end_time": "2022-11-03T00:07:32.551398Z",
     "start_time": "2022-11-03T00:07:32.520301Z"
    }
   },
   "outputs": [],
   "source": [
    "vivino2016 = pd.concat(dataset, axis=1)\n",
    "vivino2016.to_csv(\"vivino2016-google.csv\")"
   ]
  },
  {
   "cell_type": "code",
   "execution_count": 129,
   "id": "e71a4255",
   "metadata": {
    "ExecuteTime": {
     "end_time": "2022-11-03T01:00:33.451251Z",
     "start_time": "2022-11-03T01:00:33.427054Z"
    }
   },
   "outputs": [],
   "source": [
    "vivinopast = pd.read_csv(\"vivino2016-google.csv\")"
   ]
  },
  {
   "cell_type": "code",
   "execution_count": 130,
   "id": "09aa0318",
   "metadata": {
    "ExecuteTime": {
     "end_time": "2022-11-03T01:00:34.268165Z",
     "start_time": "2022-11-03T01:00:34.254215Z"
    }
   },
   "outputs": [
    {
     "data": {
      "text/html": [
       "<div>\n",
       "<style scoped>\n",
       "    .dataframe tbody tr th:only-of-type {\n",
       "        vertical-align: middle;\n",
       "    }\n",
       "\n",
       "    .dataframe tbody tr th {\n",
       "        vertical-align: top;\n",
       "    }\n",
       "\n",
       "    .dataframe thead th {\n",
       "        text-align: right;\n",
       "    }\n",
       "</style>\n",
       "<table border=\"1\" class=\"dataframe\">\n",
       "  <thead>\n",
       "    <tr style=\"text-align: right;\">\n",
       "      <th></th>\n",
       "      <th>date</th>\n",
       "      <th>vivino</th>\n",
       "      <th>geo</th>\n",
       "      <th>vivino.1</th>\n",
       "      <th>geo.1</th>\n",
       "      <th>vivino.2</th>\n",
       "      <th>geo.2</th>\n",
       "      <th>vivino.3</th>\n",
       "      <th>geo.3</th>\n",
       "      <th>vivino.4</th>\n",
       "      <th>geo.4</th>\n",
       "    </tr>\n",
       "  </thead>\n",
       "  <tbody>\n",
       "    <tr>\n",
       "      <th>0</th>\n",
       "      <td>2016-01-03</td>\n",
       "      <td>41</td>\n",
       "      <td>US</td>\n",
       "      <td>25</td>\n",
       "      <td>CA</td>\n",
       "      <td>40</td>\n",
       "      <td>GB</td>\n",
       "      <td>38</td>\n",
       "      <td>PT</td>\n",
       "      <td>82</td>\n",
       "      <td>IT</td>\n",
       "    </tr>\n",
       "    <tr>\n",
       "      <th>1</th>\n",
       "      <td>2016-01-10</td>\n",
       "      <td>64</td>\n",
       "      <td>US</td>\n",
       "      <td>30</td>\n",
       "      <td>CA</td>\n",
       "      <td>35</td>\n",
       "      <td>GB</td>\n",
       "      <td>21</td>\n",
       "      <td>PT</td>\n",
       "      <td>49</td>\n",
       "      <td>IT</td>\n",
       "    </tr>\n",
       "    <tr>\n",
       "      <th>2</th>\n",
       "      <td>2016-01-17</td>\n",
       "      <td>52</td>\n",
       "      <td>US</td>\n",
       "      <td>48</td>\n",
       "      <td>CA</td>\n",
       "      <td>0</td>\n",
       "      <td>GB</td>\n",
       "      <td>45</td>\n",
       "      <td>PT</td>\n",
       "      <td>22</td>\n",
       "      <td>IT</td>\n",
       "    </tr>\n",
       "    <tr>\n",
       "      <th>3</th>\n",
       "      <td>2016-01-24</td>\n",
       "      <td>63</td>\n",
       "      <td>US</td>\n",
       "      <td>52</td>\n",
       "      <td>CA</td>\n",
       "      <td>45</td>\n",
       "      <td>GB</td>\n",
       "      <td>17</td>\n",
       "      <td>PT</td>\n",
       "      <td>64</td>\n",
       "      <td>IT</td>\n",
       "    </tr>\n",
       "    <tr>\n",
       "      <th>4</th>\n",
       "      <td>2016-01-31</td>\n",
       "      <td>48</td>\n",
       "      <td>US</td>\n",
       "      <td>0</td>\n",
       "      <td>CA</td>\n",
       "      <td>37</td>\n",
       "      <td>GB</td>\n",
       "      <td>0</td>\n",
       "      <td>PT</td>\n",
       "      <td>41</td>\n",
       "      <td>IT</td>\n",
       "    </tr>\n",
       "  </tbody>\n",
       "</table>\n",
       "</div>"
      ],
      "text/plain": [
       "         date  vivino geo  vivino.1 geo.1  vivino.2 geo.2  vivino.3 geo.3  \\\n",
       "0  2016-01-03      41  US        25    CA        40    GB        38    PT   \n",
       "1  2016-01-10      64  US        30    CA        35    GB        21    PT   \n",
       "2  2016-01-17      52  US        48    CA         0    GB        45    PT   \n",
       "3  2016-01-24      63  US        52    CA        45    GB        17    PT   \n",
       "4  2016-01-31      48  US         0    CA        37    GB         0    PT   \n",
       "\n",
       "   vivino.4 geo.4  \n",
       "0        82    IT  \n",
       "1        49    IT  \n",
       "2        22    IT  \n",
       "3        64    IT  \n",
       "4        41    IT  "
      ]
     },
     "execution_count": 130,
     "metadata": {},
     "output_type": "execute_result"
    }
   ],
   "source": [
    "vivinopast.head()"
   ]
  },
  {
   "cell_type": "code",
   "execution_count": 131,
   "id": "413e84c7",
   "metadata": {
    "ExecuteTime": {
     "end_time": "2022-11-03T01:00:37.090446Z",
     "start_time": "2022-11-03T01:00:37.086447Z"
    }
   },
   "outputs": [
    {
     "data": {
      "text/plain": [
       "52"
      ]
     },
     "execution_count": 131,
     "metadata": {},
     "output_type": "execute_result"
    }
   ],
   "source": [
    "len(vivinopast)"
   ]
  },
  {
   "cell_type": "code",
   "execution_count": 132,
   "id": "e3087610",
   "metadata": {
    "ExecuteTime": {
     "end_time": "2022-11-03T01:01:01.132600Z",
     "start_time": "2022-11-03T01:01:01.117953Z"
    }
   },
   "outputs": [],
   "source": [
    "vivinopast['Total'] = vivinopast ['vivino'] + vivinopast ['vivino.1']+vivinopast ['vivino.2'] +vivinopast ['vivino.3'] +vivinopast ['vivino.4']"
   ]
  },
  {
   "cell_type": "markdown",
   "id": "9df46f41",
   "metadata": {},
   "source": [
    "Since we would like to merge this dataset with the vivino tweets, we will need to identify both dataset by Yearweek."
   ]
  },
  {
   "cell_type": "markdown",
   "id": "be1f2c4e",
   "metadata": {},
   "source": [
    "## Merge Data together to see the trends"
   ]
  },
  {
   "cell_type": "code",
   "execution_count": 133,
   "id": "f3322eeb",
   "metadata": {
    "ExecuteTime": {
     "end_time": "2022-11-03T01:01:17.487265Z",
     "start_time": "2022-11-03T01:01:17.437626Z"
    }
   },
   "outputs": [
    {
     "data": {
      "text/html": [
       "<div>\n",
       "<style scoped>\n",
       "    .dataframe tbody tr th:only-of-type {\n",
       "        vertical-align: middle;\n",
       "    }\n",
       "\n",
       "    .dataframe tbody tr th {\n",
       "        vertical-align: top;\n",
       "    }\n",
       "\n",
       "    .dataframe thead th {\n",
       "        text-align: right;\n",
       "    }\n",
       "</style>\n",
       "<table border=\"1\" class=\"dataframe\">\n",
       "  <thead>\n",
       "    <tr style=\"text-align: right;\">\n",
       "      <th></th>\n",
       "      <th>vivino</th>\n",
       "      <th>geo</th>\n",
       "      <th>vivino.1</th>\n",
       "      <th>geo.1</th>\n",
       "      <th>vivino.2</th>\n",
       "      <th>geo.2</th>\n",
       "      <th>vivino.3</th>\n",
       "      <th>geo.3</th>\n",
       "      <th>vivino.4</th>\n",
       "      <th>geo.4</th>\n",
       "      <th>Total</th>\n",
       "      <th>week</th>\n",
       "      <th>Year</th>\n",
       "      <th>Yearweek</th>\n",
       "    </tr>\n",
       "    <tr>\n",
       "      <th>date</th>\n",
       "      <th></th>\n",
       "      <th></th>\n",
       "      <th></th>\n",
       "      <th></th>\n",
       "      <th></th>\n",
       "      <th></th>\n",
       "      <th></th>\n",
       "      <th></th>\n",
       "      <th></th>\n",
       "      <th></th>\n",
       "      <th></th>\n",
       "      <th></th>\n",
       "      <th></th>\n",
       "      <th></th>\n",
       "    </tr>\n",
       "  </thead>\n",
       "  <tbody>\n",
       "    <tr>\n",
       "      <th>2016-01-03</th>\n",
       "      <td>41</td>\n",
       "      <td>US</td>\n",
       "      <td>25</td>\n",
       "      <td>CA</td>\n",
       "      <td>40</td>\n",
       "      <td>GB</td>\n",
       "      <td>38</td>\n",
       "      <td>PT</td>\n",
       "      <td>82</td>\n",
       "      <td>IT</td>\n",
       "      <td>226</td>\n",
       "      <td>53</td>\n",
       "      <td>2016</td>\n",
       "      <td>2016-53</td>\n",
       "    </tr>\n",
       "    <tr>\n",
       "      <th>2016-01-10</th>\n",
       "      <td>64</td>\n",
       "      <td>US</td>\n",
       "      <td>30</td>\n",
       "      <td>CA</td>\n",
       "      <td>35</td>\n",
       "      <td>GB</td>\n",
       "      <td>21</td>\n",
       "      <td>PT</td>\n",
       "      <td>49</td>\n",
       "      <td>IT</td>\n",
       "      <td>199</td>\n",
       "      <td>1</td>\n",
       "      <td>2016</td>\n",
       "      <td>2016-1</td>\n",
       "    </tr>\n",
       "    <tr>\n",
       "      <th>2016-01-17</th>\n",
       "      <td>52</td>\n",
       "      <td>US</td>\n",
       "      <td>48</td>\n",
       "      <td>CA</td>\n",
       "      <td>0</td>\n",
       "      <td>GB</td>\n",
       "      <td>45</td>\n",
       "      <td>PT</td>\n",
       "      <td>22</td>\n",
       "      <td>IT</td>\n",
       "      <td>167</td>\n",
       "      <td>2</td>\n",
       "      <td>2016</td>\n",
       "      <td>2016-2</td>\n",
       "    </tr>\n",
       "    <tr>\n",
       "      <th>2016-01-24</th>\n",
       "      <td>63</td>\n",
       "      <td>US</td>\n",
       "      <td>52</td>\n",
       "      <td>CA</td>\n",
       "      <td>45</td>\n",
       "      <td>GB</td>\n",
       "      <td>17</td>\n",
       "      <td>PT</td>\n",
       "      <td>64</td>\n",
       "      <td>IT</td>\n",
       "      <td>241</td>\n",
       "      <td>3</td>\n",
       "      <td>2016</td>\n",
       "      <td>2016-3</td>\n",
       "    </tr>\n",
       "    <tr>\n",
       "      <th>2016-01-31</th>\n",
       "      <td>48</td>\n",
       "      <td>US</td>\n",
       "      <td>0</td>\n",
       "      <td>CA</td>\n",
       "      <td>37</td>\n",
       "      <td>GB</td>\n",
       "      <td>0</td>\n",
       "      <td>PT</td>\n",
       "      <td>41</td>\n",
       "      <td>IT</td>\n",
       "      <td>126</td>\n",
       "      <td>4</td>\n",
       "      <td>2016</td>\n",
       "      <td>2016-4</td>\n",
       "    </tr>\n",
       "    <tr>\n",
       "      <th>2016-02-07</th>\n",
       "      <td>50</td>\n",
       "      <td>US</td>\n",
       "      <td>0</td>\n",
       "      <td>CA</td>\n",
       "      <td>25</td>\n",
       "      <td>GB</td>\n",
       "      <td>18</td>\n",
       "      <td>PT</td>\n",
       "      <td>87</td>\n",
       "      <td>IT</td>\n",
       "      <td>180</td>\n",
       "      <td>5</td>\n",
       "      <td>2016</td>\n",
       "      <td>2016-5</td>\n",
       "    </tr>\n",
       "    <tr>\n",
       "      <th>2016-02-14</th>\n",
       "      <td>57</td>\n",
       "      <td>US</td>\n",
       "      <td>23</td>\n",
       "      <td>CA</td>\n",
       "      <td>87</td>\n",
       "      <td>GB</td>\n",
       "      <td>28</td>\n",
       "      <td>PT</td>\n",
       "      <td>59</td>\n",
       "      <td>IT</td>\n",
       "      <td>254</td>\n",
       "      <td>6</td>\n",
       "      <td>2016</td>\n",
       "      <td>2016-6</td>\n",
       "    </tr>\n",
       "    <tr>\n",
       "      <th>2016-02-21</th>\n",
       "      <td>67</td>\n",
       "      <td>US</td>\n",
       "      <td>0</td>\n",
       "      <td>CA</td>\n",
       "      <td>37</td>\n",
       "      <td>GB</td>\n",
       "      <td>28</td>\n",
       "      <td>PT</td>\n",
       "      <td>70</td>\n",
       "      <td>IT</td>\n",
       "      <td>202</td>\n",
       "      <td>7</td>\n",
       "      <td>2016</td>\n",
       "      <td>2016-7</td>\n",
       "    </tr>\n",
       "    <tr>\n",
       "      <th>2016-02-28</th>\n",
       "      <td>68</td>\n",
       "      <td>US</td>\n",
       "      <td>22</td>\n",
       "      <td>CA</td>\n",
       "      <td>0</td>\n",
       "      <td>GB</td>\n",
       "      <td>0</td>\n",
       "      <td>PT</td>\n",
       "      <td>43</td>\n",
       "      <td>IT</td>\n",
       "      <td>133</td>\n",
       "      <td>8</td>\n",
       "      <td>2016</td>\n",
       "      <td>2016-8</td>\n",
       "    </tr>\n",
       "    <tr>\n",
       "      <th>2016-03-06</th>\n",
       "      <td>41</td>\n",
       "      <td>US</td>\n",
       "      <td>0</td>\n",
       "      <td>CA</td>\n",
       "      <td>96</td>\n",
       "      <td>GB</td>\n",
       "      <td>0</td>\n",
       "      <td>PT</td>\n",
       "      <td>33</td>\n",
       "      <td>IT</td>\n",
       "      <td>170</td>\n",
       "      <td>9</td>\n",
       "      <td>2016</td>\n",
       "      <td>2016-9</td>\n",
       "    </tr>\n",
       "    <tr>\n",
       "      <th>2016-03-13</th>\n",
       "      <td>27</td>\n",
       "      <td>US</td>\n",
       "      <td>19</td>\n",
       "      <td>CA</td>\n",
       "      <td>49</td>\n",
       "      <td>GB</td>\n",
       "      <td>0</td>\n",
       "      <td>PT</td>\n",
       "      <td>42</td>\n",
       "      <td>IT</td>\n",
       "      <td>137</td>\n",
       "      <td>10</td>\n",
       "      <td>2016</td>\n",
       "      <td>2016-10</td>\n",
       "    </tr>\n",
       "    <tr>\n",
       "      <th>2016-03-20</th>\n",
       "      <td>49</td>\n",
       "      <td>US</td>\n",
       "      <td>21</td>\n",
       "      <td>CA</td>\n",
       "      <td>16</td>\n",
       "      <td>GB</td>\n",
       "      <td>0</td>\n",
       "      <td>PT</td>\n",
       "      <td>53</td>\n",
       "      <td>IT</td>\n",
       "      <td>139</td>\n",
       "      <td>11</td>\n",
       "      <td>2016</td>\n",
       "      <td>2016-11</td>\n",
       "    </tr>\n",
       "    <tr>\n",
       "      <th>2016-03-27</th>\n",
       "      <td>50</td>\n",
       "      <td>US</td>\n",
       "      <td>24</td>\n",
       "      <td>CA</td>\n",
       "      <td>0</td>\n",
       "      <td>GB</td>\n",
       "      <td>0</td>\n",
       "      <td>PT</td>\n",
       "      <td>88</td>\n",
       "      <td>IT</td>\n",
       "      <td>162</td>\n",
       "      <td>12</td>\n",
       "      <td>2016</td>\n",
       "      <td>2016-12</td>\n",
       "    </tr>\n",
       "    <tr>\n",
       "      <th>2016-04-03</th>\n",
       "      <td>41</td>\n",
       "      <td>US</td>\n",
       "      <td>31</td>\n",
       "      <td>CA</td>\n",
       "      <td>25</td>\n",
       "      <td>GB</td>\n",
       "      <td>0</td>\n",
       "      <td>PT</td>\n",
       "      <td>52</td>\n",
       "      <td>IT</td>\n",
       "      <td>149</td>\n",
       "      <td>13</td>\n",
       "      <td>2016</td>\n",
       "      <td>2016-13</td>\n",
       "    </tr>\n",
       "    <tr>\n",
       "      <th>2016-04-10</th>\n",
       "      <td>31</td>\n",
       "      <td>US</td>\n",
       "      <td>15</td>\n",
       "      <td>CA</td>\n",
       "      <td>57</td>\n",
       "      <td>GB</td>\n",
       "      <td>100</td>\n",
       "      <td>PT</td>\n",
       "      <td>57</td>\n",
       "      <td>IT</td>\n",
       "      <td>260</td>\n",
       "      <td>14</td>\n",
       "      <td>2016</td>\n",
       "      <td>2016-14</td>\n",
       "    </tr>\n",
       "    <tr>\n",
       "      <th>2016-04-17</th>\n",
       "      <td>46</td>\n",
       "      <td>US</td>\n",
       "      <td>28</td>\n",
       "      <td>CA</td>\n",
       "      <td>41</td>\n",
       "      <td>GB</td>\n",
       "      <td>0</td>\n",
       "      <td>PT</td>\n",
       "      <td>45</td>\n",
       "      <td>IT</td>\n",
       "      <td>160</td>\n",
       "      <td>15</td>\n",
       "      <td>2016</td>\n",
       "      <td>2016-15</td>\n",
       "    </tr>\n",
       "    <tr>\n",
       "      <th>2016-04-24</th>\n",
       "      <td>50</td>\n",
       "      <td>US</td>\n",
       "      <td>17</td>\n",
       "      <td>CA</td>\n",
       "      <td>70</td>\n",
       "      <td>GB</td>\n",
       "      <td>0</td>\n",
       "      <td>PT</td>\n",
       "      <td>67</td>\n",
       "      <td>IT</td>\n",
       "      <td>204</td>\n",
       "      <td>16</td>\n",
       "      <td>2016</td>\n",
       "      <td>2016-16</td>\n",
       "    </tr>\n",
       "    <tr>\n",
       "      <th>2016-05-01</th>\n",
       "      <td>50</td>\n",
       "      <td>US</td>\n",
       "      <td>38</td>\n",
       "      <td>CA</td>\n",
       "      <td>49</td>\n",
       "      <td>GB</td>\n",
       "      <td>0</td>\n",
       "      <td>PT</td>\n",
       "      <td>65</td>\n",
       "      <td>IT</td>\n",
       "      <td>202</td>\n",
       "      <td>17</td>\n",
       "      <td>2016</td>\n",
       "      <td>2016-17</td>\n",
       "    </tr>\n",
       "    <tr>\n",
       "      <th>2016-05-08</th>\n",
       "      <td>24</td>\n",
       "      <td>US</td>\n",
       "      <td>31</td>\n",
       "      <td>CA</td>\n",
       "      <td>49</td>\n",
       "      <td>GB</td>\n",
       "      <td>21</td>\n",
       "      <td>PT</td>\n",
       "      <td>60</td>\n",
       "      <td>IT</td>\n",
       "      <td>185</td>\n",
       "      <td>18</td>\n",
       "      <td>2016</td>\n",
       "      <td>2016-18</td>\n",
       "    </tr>\n",
       "    <tr>\n",
       "      <th>2016-05-15</th>\n",
       "      <td>43</td>\n",
       "      <td>US</td>\n",
       "      <td>0</td>\n",
       "      <td>CA</td>\n",
       "      <td>50</td>\n",
       "      <td>GB</td>\n",
       "      <td>0</td>\n",
       "      <td>PT</td>\n",
       "      <td>50</td>\n",
       "      <td>IT</td>\n",
       "      <td>143</td>\n",
       "      <td>19</td>\n",
       "      <td>2016</td>\n",
       "      <td>2016-19</td>\n",
       "    </tr>\n",
       "    <tr>\n",
       "      <th>2016-05-22</th>\n",
       "      <td>48</td>\n",
       "      <td>US</td>\n",
       "      <td>38</td>\n",
       "      <td>CA</td>\n",
       "      <td>30</td>\n",
       "      <td>GB</td>\n",
       "      <td>60</td>\n",
       "      <td>PT</td>\n",
       "      <td>60</td>\n",
       "      <td>IT</td>\n",
       "      <td>236</td>\n",
       "      <td>20</td>\n",
       "      <td>2016</td>\n",
       "      <td>2016-20</td>\n",
       "    </tr>\n",
       "    <tr>\n",
       "      <th>2016-05-29</th>\n",
       "      <td>41</td>\n",
       "      <td>US</td>\n",
       "      <td>0</td>\n",
       "      <td>CA</td>\n",
       "      <td>40</td>\n",
       "      <td>GB</td>\n",
       "      <td>39</td>\n",
       "      <td>PT</td>\n",
       "      <td>77</td>\n",
       "      <td>IT</td>\n",
       "      <td>197</td>\n",
       "      <td>21</td>\n",
       "      <td>2016</td>\n",
       "      <td>2016-21</td>\n",
       "    </tr>\n",
       "    <tr>\n",
       "      <th>2016-06-05</th>\n",
       "      <td>36</td>\n",
       "      <td>US</td>\n",
       "      <td>34</td>\n",
       "      <td>CA</td>\n",
       "      <td>34</td>\n",
       "      <td>GB</td>\n",
       "      <td>0</td>\n",
       "      <td>PT</td>\n",
       "      <td>76</td>\n",
       "      <td>IT</td>\n",
       "      <td>180</td>\n",
       "      <td>22</td>\n",
       "      <td>2016</td>\n",
       "      <td>2016-22</td>\n",
       "    </tr>\n",
       "    <tr>\n",
       "      <th>2016-06-12</th>\n",
       "      <td>44</td>\n",
       "      <td>US</td>\n",
       "      <td>0</td>\n",
       "      <td>CA</td>\n",
       "      <td>0</td>\n",
       "      <td>GB</td>\n",
       "      <td>0</td>\n",
       "      <td>PT</td>\n",
       "      <td>83</td>\n",
       "      <td>IT</td>\n",
       "      <td>127</td>\n",
       "      <td>23</td>\n",
       "      <td>2016</td>\n",
       "      <td>2016-23</td>\n",
       "    </tr>\n",
       "    <tr>\n",
       "      <th>2016-06-19</th>\n",
       "      <td>38</td>\n",
       "      <td>US</td>\n",
       "      <td>0</td>\n",
       "      <td>CA</td>\n",
       "      <td>19</td>\n",
       "      <td>GB</td>\n",
       "      <td>42</td>\n",
       "      <td>PT</td>\n",
       "      <td>63</td>\n",
       "      <td>IT</td>\n",
       "      <td>162</td>\n",
       "      <td>24</td>\n",
       "      <td>2016</td>\n",
       "      <td>2016-24</td>\n",
       "    </tr>\n",
       "    <tr>\n",
       "      <th>2016-06-26</th>\n",
       "      <td>62</td>\n",
       "      <td>US</td>\n",
       "      <td>16</td>\n",
       "      <td>CA</td>\n",
       "      <td>30</td>\n",
       "      <td>GB</td>\n",
       "      <td>0</td>\n",
       "      <td>PT</td>\n",
       "      <td>60</td>\n",
       "      <td>IT</td>\n",
       "      <td>168</td>\n",
       "      <td>25</td>\n",
       "      <td>2016</td>\n",
       "      <td>2016-25</td>\n",
       "    </tr>\n",
       "    <tr>\n",
       "      <th>2016-07-03</th>\n",
       "      <td>32</td>\n",
       "      <td>US</td>\n",
       "      <td>0</td>\n",
       "      <td>CA</td>\n",
       "      <td>23</td>\n",
       "      <td>GB</td>\n",
       "      <td>64</td>\n",
       "      <td>PT</td>\n",
       "      <td>67</td>\n",
       "      <td>IT</td>\n",
       "      <td>186</td>\n",
       "      <td>26</td>\n",
       "      <td>2016</td>\n",
       "      <td>2016-26</td>\n",
       "    </tr>\n",
       "    <tr>\n",
       "      <th>2016-07-10</th>\n",
       "      <td>42</td>\n",
       "      <td>US</td>\n",
       "      <td>0</td>\n",
       "      <td>CA</td>\n",
       "      <td>20</td>\n",
       "      <td>GB</td>\n",
       "      <td>0</td>\n",
       "      <td>PT</td>\n",
       "      <td>54</td>\n",
       "      <td>IT</td>\n",
       "      <td>116</td>\n",
       "      <td>27</td>\n",
       "      <td>2016</td>\n",
       "      <td>2016-27</td>\n",
       "    </tr>\n",
       "    <tr>\n",
       "      <th>2016-07-17</th>\n",
       "      <td>53</td>\n",
       "      <td>US</td>\n",
       "      <td>100</td>\n",
       "      <td>CA</td>\n",
       "      <td>19</td>\n",
       "      <td>GB</td>\n",
       "      <td>21</td>\n",
       "      <td>PT</td>\n",
       "      <td>93</td>\n",
       "      <td>IT</td>\n",
       "      <td>286</td>\n",
       "      <td>28</td>\n",
       "      <td>2016</td>\n",
       "      <td>2016-28</td>\n",
       "    </tr>\n",
       "    <tr>\n",
       "      <th>2016-07-24</th>\n",
       "      <td>46</td>\n",
       "      <td>US</td>\n",
       "      <td>0</td>\n",
       "      <td>CA</td>\n",
       "      <td>45</td>\n",
       "      <td>GB</td>\n",
       "      <td>0</td>\n",
       "      <td>PT</td>\n",
       "      <td>45</td>\n",
       "      <td>IT</td>\n",
       "      <td>136</td>\n",
       "      <td>29</td>\n",
       "      <td>2016</td>\n",
       "      <td>2016-29</td>\n",
       "    </tr>\n",
       "    <tr>\n",
       "      <th>2016-07-31</th>\n",
       "      <td>58</td>\n",
       "      <td>US</td>\n",
       "      <td>21</td>\n",
       "      <td>CA</td>\n",
       "      <td>0</td>\n",
       "      <td>GB</td>\n",
       "      <td>0</td>\n",
       "      <td>PT</td>\n",
       "      <td>61</td>\n",
       "      <td>IT</td>\n",
       "      <td>140</td>\n",
       "      <td>30</td>\n",
       "      <td>2016</td>\n",
       "      <td>2016-30</td>\n",
       "    </tr>\n",
       "    <tr>\n",
       "      <th>2016-08-07</th>\n",
       "      <td>34</td>\n",
       "      <td>US</td>\n",
       "      <td>0</td>\n",
       "      <td>CA</td>\n",
       "      <td>50</td>\n",
       "      <td>GB</td>\n",
       "      <td>0</td>\n",
       "      <td>PT</td>\n",
       "      <td>100</td>\n",
       "      <td>IT</td>\n",
       "      <td>184</td>\n",
       "      <td>31</td>\n",
       "      <td>2016</td>\n",
       "      <td>2016-31</td>\n",
       "    </tr>\n",
       "    <tr>\n",
       "      <th>2016-08-14</th>\n",
       "      <td>33</td>\n",
       "      <td>US</td>\n",
       "      <td>39</td>\n",
       "      <td>CA</td>\n",
       "      <td>40</td>\n",
       "      <td>GB</td>\n",
       "      <td>25</td>\n",
       "      <td>PT</td>\n",
       "      <td>79</td>\n",
       "      <td>IT</td>\n",
       "      <td>216</td>\n",
       "      <td>32</td>\n",
       "      <td>2016</td>\n",
       "      <td>2016-32</td>\n",
       "    </tr>\n",
       "    <tr>\n",
       "      <th>2016-08-21</th>\n",
       "      <td>53</td>\n",
       "      <td>US</td>\n",
       "      <td>32</td>\n",
       "      <td>CA</td>\n",
       "      <td>0</td>\n",
       "      <td>GB</td>\n",
       "      <td>45</td>\n",
       "      <td>PT</td>\n",
       "      <td>17</td>\n",
       "      <td>IT</td>\n",
       "      <td>147</td>\n",
       "      <td>33</td>\n",
       "      <td>2016</td>\n",
       "      <td>2016-33</td>\n",
       "    </tr>\n",
       "    <tr>\n",
       "      <th>2016-08-28</th>\n",
       "      <td>58</td>\n",
       "      <td>US</td>\n",
       "      <td>16</td>\n",
       "      <td>CA</td>\n",
       "      <td>38</td>\n",
       "      <td>GB</td>\n",
       "      <td>45</td>\n",
       "      <td>PT</td>\n",
       "      <td>45</td>\n",
       "      <td>IT</td>\n",
       "      <td>202</td>\n",
       "      <td>34</td>\n",
       "      <td>2016</td>\n",
       "      <td>2016-34</td>\n",
       "    </tr>\n",
       "    <tr>\n",
       "      <th>2016-09-04</th>\n",
       "      <td>51</td>\n",
       "      <td>US</td>\n",
       "      <td>0</td>\n",
       "      <td>CA</td>\n",
       "      <td>0</td>\n",
       "      <td>GB</td>\n",
       "      <td>40</td>\n",
       "      <td>PT</td>\n",
       "      <td>77</td>\n",
       "      <td>IT</td>\n",
       "      <td>168</td>\n",
       "      <td>35</td>\n",
       "      <td>2016</td>\n",
       "      <td>2016-35</td>\n",
       "    </tr>\n",
       "    <tr>\n",
       "      <th>2016-09-11</th>\n",
       "      <td>31</td>\n",
       "      <td>US</td>\n",
       "      <td>75</td>\n",
       "      <td>CA</td>\n",
       "      <td>100</td>\n",
       "      <td>GB</td>\n",
       "      <td>0</td>\n",
       "      <td>PT</td>\n",
       "      <td>39</td>\n",
       "      <td>IT</td>\n",
       "      <td>245</td>\n",
       "      <td>36</td>\n",
       "      <td>2016</td>\n",
       "      <td>2016-36</td>\n",
       "    </tr>\n",
       "    <tr>\n",
       "      <th>2016-09-18</th>\n",
       "      <td>43</td>\n",
       "      <td>US</td>\n",
       "      <td>22</td>\n",
       "      <td>CA</td>\n",
       "      <td>45</td>\n",
       "      <td>GB</td>\n",
       "      <td>0</td>\n",
       "      <td>PT</td>\n",
       "      <td>40</td>\n",
       "      <td>IT</td>\n",
       "      <td>150</td>\n",
       "      <td>37</td>\n",
       "      <td>2016</td>\n",
       "      <td>2016-37</td>\n",
       "    </tr>\n",
       "    <tr>\n",
       "      <th>2016-09-25</th>\n",
       "      <td>52</td>\n",
       "      <td>US</td>\n",
       "      <td>29</td>\n",
       "      <td>CA</td>\n",
       "      <td>26</td>\n",
       "      <td>GB</td>\n",
       "      <td>0</td>\n",
       "      <td>PT</td>\n",
       "      <td>54</td>\n",
       "      <td>IT</td>\n",
       "      <td>161</td>\n",
       "      <td>38</td>\n",
       "      <td>2016</td>\n",
       "      <td>2016-38</td>\n",
       "    </tr>\n",
       "    <tr>\n",
       "      <th>2016-10-02</th>\n",
       "      <td>37</td>\n",
       "      <td>US</td>\n",
       "      <td>0</td>\n",
       "      <td>CA</td>\n",
       "      <td>53</td>\n",
       "      <td>GB</td>\n",
       "      <td>92</td>\n",
       "      <td>PT</td>\n",
       "      <td>69</td>\n",
       "      <td>IT</td>\n",
       "      <td>251</td>\n",
       "      <td>39</td>\n",
       "      <td>2016</td>\n",
       "      <td>2016-39</td>\n",
       "    </tr>\n",
       "    <tr>\n",
       "      <th>2016-10-09</th>\n",
       "      <td>51</td>\n",
       "      <td>US</td>\n",
       "      <td>25</td>\n",
       "      <td>CA</td>\n",
       "      <td>45</td>\n",
       "      <td>GB</td>\n",
       "      <td>37</td>\n",
       "      <td>PT</td>\n",
       "      <td>30</td>\n",
       "      <td>IT</td>\n",
       "      <td>188</td>\n",
       "      <td>40</td>\n",
       "      <td>2016</td>\n",
       "      <td>2016-40</td>\n",
       "    </tr>\n",
       "    <tr>\n",
       "      <th>2016-10-16</th>\n",
       "      <td>47</td>\n",
       "      <td>US</td>\n",
       "      <td>37</td>\n",
       "      <td>CA</td>\n",
       "      <td>0</td>\n",
       "      <td>GB</td>\n",
       "      <td>54</td>\n",
       "      <td>PT</td>\n",
       "      <td>52</td>\n",
       "      <td>IT</td>\n",
       "      <td>190</td>\n",
       "      <td>41</td>\n",
       "      <td>2016</td>\n",
       "      <td>2016-41</td>\n",
       "    </tr>\n",
       "    <tr>\n",
       "      <th>2016-10-23</th>\n",
       "      <td>87</td>\n",
       "      <td>US</td>\n",
       "      <td>30</td>\n",
       "      <td>CA</td>\n",
       "      <td>34</td>\n",
       "      <td>GB</td>\n",
       "      <td>0</td>\n",
       "      <td>PT</td>\n",
       "      <td>51</td>\n",
       "      <td>IT</td>\n",
       "      <td>202</td>\n",
       "      <td>42</td>\n",
       "      <td>2016</td>\n",
       "      <td>2016-42</td>\n",
       "    </tr>\n",
       "    <tr>\n",
       "      <th>2016-10-30</th>\n",
       "      <td>40</td>\n",
       "      <td>US</td>\n",
       "      <td>23</td>\n",
       "      <td>CA</td>\n",
       "      <td>19</td>\n",
       "      <td>GB</td>\n",
       "      <td>0</td>\n",
       "      <td>PT</td>\n",
       "      <td>51</td>\n",
       "      <td>IT</td>\n",
       "      <td>133</td>\n",
       "      <td>43</td>\n",
       "      <td>2016</td>\n",
       "      <td>2016-43</td>\n",
       "    </tr>\n",
       "    <tr>\n",
       "      <th>2016-11-06</th>\n",
       "      <td>30</td>\n",
       "      <td>US</td>\n",
       "      <td>0</td>\n",
       "      <td>CA</td>\n",
       "      <td>64</td>\n",
       "      <td>GB</td>\n",
       "      <td>59</td>\n",
       "      <td>PT</td>\n",
       "      <td>57</td>\n",
       "      <td>IT</td>\n",
       "      <td>210</td>\n",
       "      <td>44</td>\n",
       "      <td>2016</td>\n",
       "      <td>2016-44</td>\n",
       "    </tr>\n",
       "    <tr>\n",
       "      <th>2016-11-13</th>\n",
       "      <td>51</td>\n",
       "      <td>US</td>\n",
       "      <td>0</td>\n",
       "      <td>CA</td>\n",
       "      <td>42</td>\n",
       "      <td>GB</td>\n",
       "      <td>38</td>\n",
       "      <td>PT</td>\n",
       "      <td>71</td>\n",
       "      <td>IT</td>\n",
       "      <td>202</td>\n",
       "      <td>45</td>\n",
       "      <td>2016</td>\n",
       "      <td>2016-45</td>\n",
       "    </tr>\n",
       "    <tr>\n",
       "      <th>2016-11-20</th>\n",
       "      <td>44</td>\n",
       "      <td>US</td>\n",
       "      <td>44</td>\n",
       "      <td>CA</td>\n",
       "      <td>29</td>\n",
       "      <td>GB</td>\n",
       "      <td>0</td>\n",
       "      <td>PT</td>\n",
       "      <td>59</td>\n",
       "      <td>IT</td>\n",
       "      <td>176</td>\n",
       "      <td>46</td>\n",
       "      <td>2016</td>\n",
       "      <td>2016-46</td>\n",
       "    </tr>\n",
       "    <tr>\n",
       "      <th>2016-11-27</th>\n",
       "      <td>59</td>\n",
       "      <td>US</td>\n",
       "      <td>0</td>\n",
       "      <td>CA</td>\n",
       "      <td>60</td>\n",
       "      <td>GB</td>\n",
       "      <td>18</td>\n",
       "      <td>PT</td>\n",
       "      <td>50</td>\n",
       "      <td>IT</td>\n",
       "      <td>187</td>\n",
       "      <td>47</td>\n",
       "      <td>2016</td>\n",
       "      <td>2016-47</td>\n",
       "    </tr>\n",
       "    <tr>\n",
       "      <th>2016-12-04</th>\n",
       "      <td>52</td>\n",
       "      <td>US</td>\n",
       "      <td>0</td>\n",
       "      <td>CA</td>\n",
       "      <td>60</td>\n",
       "      <td>GB</td>\n",
       "      <td>48</td>\n",
       "      <td>PT</td>\n",
       "      <td>57</td>\n",
       "      <td>IT</td>\n",
       "      <td>217</td>\n",
       "      <td>48</td>\n",
       "      <td>2016</td>\n",
       "      <td>2016-48</td>\n",
       "    </tr>\n",
       "    <tr>\n",
       "      <th>2016-12-11</th>\n",
       "      <td>74</td>\n",
       "      <td>US</td>\n",
       "      <td>20</td>\n",
       "      <td>CA</td>\n",
       "      <td>68</td>\n",
       "      <td>GB</td>\n",
       "      <td>0</td>\n",
       "      <td>PT</td>\n",
       "      <td>95</td>\n",
       "      <td>IT</td>\n",
       "      <td>257</td>\n",
       "      <td>49</td>\n",
       "      <td>2016</td>\n",
       "      <td>2016-49</td>\n",
       "    </tr>\n",
       "    <tr>\n",
       "      <th>2016-12-18</th>\n",
       "      <td>100</td>\n",
       "      <td>US</td>\n",
       "      <td>39</td>\n",
       "      <td>CA</td>\n",
       "      <td>83</td>\n",
       "      <td>GB</td>\n",
       "      <td>49</td>\n",
       "      <td>PT</td>\n",
       "      <td>90</td>\n",
       "      <td>IT</td>\n",
       "      <td>361</td>\n",
       "      <td>50</td>\n",
       "      <td>2016</td>\n",
       "      <td>2016-50</td>\n",
       "    </tr>\n",
       "    <tr>\n",
       "      <th>2016-12-25</th>\n",
       "      <td>78</td>\n",
       "      <td>US</td>\n",
       "      <td>42</td>\n",
       "      <td>CA</td>\n",
       "      <td>0</td>\n",
       "      <td>GB</td>\n",
       "      <td>65</td>\n",
       "      <td>PT</td>\n",
       "      <td>90</td>\n",
       "      <td>IT</td>\n",
       "      <td>275</td>\n",
       "      <td>51</td>\n",
       "      <td>2016</td>\n",
       "      <td>2016-51</td>\n",
       "    </tr>\n",
       "  </tbody>\n",
       "</table>\n",
       "</div>"
      ],
      "text/plain": [
       "            vivino geo  vivino.1 geo.1  vivino.2 geo.2  vivino.3 geo.3  \\\n",
       "date                                                                     \n",
       "2016-01-03      41  US        25    CA        40    GB        38    PT   \n",
       "2016-01-10      64  US        30    CA        35    GB        21    PT   \n",
       "2016-01-17      52  US        48    CA         0    GB        45    PT   \n",
       "2016-01-24      63  US        52    CA        45    GB        17    PT   \n",
       "2016-01-31      48  US         0    CA        37    GB         0    PT   \n",
       "2016-02-07      50  US         0    CA        25    GB        18    PT   \n",
       "2016-02-14      57  US        23    CA        87    GB        28    PT   \n",
       "2016-02-21      67  US         0    CA        37    GB        28    PT   \n",
       "2016-02-28      68  US        22    CA         0    GB         0    PT   \n",
       "2016-03-06      41  US         0    CA        96    GB         0    PT   \n",
       "2016-03-13      27  US        19    CA        49    GB         0    PT   \n",
       "2016-03-20      49  US        21    CA        16    GB         0    PT   \n",
       "2016-03-27      50  US        24    CA         0    GB         0    PT   \n",
       "2016-04-03      41  US        31    CA        25    GB         0    PT   \n",
       "2016-04-10      31  US        15    CA        57    GB       100    PT   \n",
       "2016-04-17      46  US        28    CA        41    GB         0    PT   \n",
       "2016-04-24      50  US        17    CA        70    GB         0    PT   \n",
       "2016-05-01      50  US        38    CA        49    GB         0    PT   \n",
       "2016-05-08      24  US        31    CA        49    GB        21    PT   \n",
       "2016-05-15      43  US         0    CA        50    GB         0    PT   \n",
       "2016-05-22      48  US        38    CA        30    GB        60    PT   \n",
       "2016-05-29      41  US         0    CA        40    GB        39    PT   \n",
       "2016-06-05      36  US        34    CA        34    GB         0    PT   \n",
       "2016-06-12      44  US         0    CA         0    GB         0    PT   \n",
       "2016-06-19      38  US         0    CA        19    GB        42    PT   \n",
       "2016-06-26      62  US        16    CA        30    GB         0    PT   \n",
       "2016-07-03      32  US         0    CA        23    GB        64    PT   \n",
       "2016-07-10      42  US         0    CA        20    GB         0    PT   \n",
       "2016-07-17      53  US       100    CA        19    GB        21    PT   \n",
       "2016-07-24      46  US         0    CA        45    GB         0    PT   \n",
       "2016-07-31      58  US        21    CA         0    GB         0    PT   \n",
       "2016-08-07      34  US         0    CA        50    GB         0    PT   \n",
       "2016-08-14      33  US        39    CA        40    GB        25    PT   \n",
       "2016-08-21      53  US        32    CA         0    GB        45    PT   \n",
       "2016-08-28      58  US        16    CA        38    GB        45    PT   \n",
       "2016-09-04      51  US         0    CA         0    GB        40    PT   \n",
       "2016-09-11      31  US        75    CA       100    GB         0    PT   \n",
       "2016-09-18      43  US        22    CA        45    GB         0    PT   \n",
       "2016-09-25      52  US        29    CA        26    GB         0    PT   \n",
       "2016-10-02      37  US         0    CA        53    GB        92    PT   \n",
       "2016-10-09      51  US        25    CA        45    GB        37    PT   \n",
       "2016-10-16      47  US        37    CA         0    GB        54    PT   \n",
       "2016-10-23      87  US        30    CA        34    GB         0    PT   \n",
       "2016-10-30      40  US        23    CA        19    GB         0    PT   \n",
       "2016-11-06      30  US         0    CA        64    GB        59    PT   \n",
       "2016-11-13      51  US         0    CA        42    GB        38    PT   \n",
       "2016-11-20      44  US        44    CA        29    GB         0    PT   \n",
       "2016-11-27      59  US         0    CA        60    GB        18    PT   \n",
       "2016-12-04      52  US         0    CA        60    GB        48    PT   \n",
       "2016-12-11      74  US        20    CA        68    GB         0    PT   \n",
       "2016-12-18     100  US        39    CA        83    GB        49    PT   \n",
       "2016-12-25      78  US        42    CA         0    GB        65    PT   \n",
       "\n",
       "            vivino.4 geo.4  Total week  Year Yearweek  \n",
       "date                                                   \n",
       "2016-01-03        82    IT    226   53  2016  2016-53  \n",
       "2016-01-10        49    IT    199    1  2016   2016-1  \n",
       "2016-01-17        22    IT    167    2  2016   2016-2  \n",
       "2016-01-24        64    IT    241    3  2016   2016-3  \n",
       "2016-01-31        41    IT    126    4  2016   2016-4  \n",
       "2016-02-07        87    IT    180    5  2016   2016-5  \n",
       "2016-02-14        59    IT    254    6  2016   2016-6  \n",
       "2016-02-21        70    IT    202    7  2016   2016-7  \n",
       "2016-02-28        43    IT    133    8  2016   2016-8  \n",
       "2016-03-06        33    IT    170    9  2016   2016-9  \n",
       "2016-03-13        42    IT    137   10  2016  2016-10  \n",
       "2016-03-20        53    IT    139   11  2016  2016-11  \n",
       "2016-03-27        88    IT    162   12  2016  2016-12  \n",
       "2016-04-03        52    IT    149   13  2016  2016-13  \n",
       "2016-04-10        57    IT    260   14  2016  2016-14  \n",
       "2016-04-17        45    IT    160   15  2016  2016-15  \n",
       "2016-04-24        67    IT    204   16  2016  2016-16  \n",
       "2016-05-01        65    IT    202   17  2016  2016-17  \n",
       "2016-05-08        60    IT    185   18  2016  2016-18  \n",
       "2016-05-15        50    IT    143   19  2016  2016-19  \n",
       "2016-05-22        60    IT    236   20  2016  2016-20  \n",
       "2016-05-29        77    IT    197   21  2016  2016-21  \n",
       "2016-06-05        76    IT    180   22  2016  2016-22  \n",
       "2016-06-12        83    IT    127   23  2016  2016-23  \n",
       "2016-06-19        63    IT    162   24  2016  2016-24  \n",
       "2016-06-26        60    IT    168   25  2016  2016-25  \n",
       "2016-07-03        67    IT    186   26  2016  2016-26  \n",
       "2016-07-10        54    IT    116   27  2016  2016-27  \n",
       "2016-07-17        93    IT    286   28  2016  2016-28  \n",
       "2016-07-24        45    IT    136   29  2016  2016-29  \n",
       "2016-07-31        61    IT    140   30  2016  2016-30  \n",
       "2016-08-07       100    IT    184   31  2016  2016-31  \n",
       "2016-08-14        79    IT    216   32  2016  2016-32  \n",
       "2016-08-21        17    IT    147   33  2016  2016-33  \n",
       "2016-08-28        45    IT    202   34  2016  2016-34  \n",
       "2016-09-04        77    IT    168   35  2016  2016-35  \n",
       "2016-09-11        39    IT    245   36  2016  2016-36  \n",
       "2016-09-18        40    IT    150   37  2016  2016-37  \n",
       "2016-09-25        54    IT    161   38  2016  2016-38  \n",
       "2016-10-02        69    IT    251   39  2016  2016-39  \n",
       "2016-10-09        30    IT    188   40  2016  2016-40  \n",
       "2016-10-16        52    IT    190   41  2016  2016-41  \n",
       "2016-10-23        51    IT    202   42  2016  2016-42  \n",
       "2016-10-30        51    IT    133   43  2016  2016-43  \n",
       "2016-11-06        57    IT    210   44  2016  2016-44  \n",
       "2016-11-13        71    IT    202   45  2016  2016-45  \n",
       "2016-11-20        59    IT    176   46  2016  2016-46  \n",
       "2016-11-27        50    IT    187   47  2016  2016-47  \n",
       "2016-12-04        57    IT    217   48  2016  2016-48  \n",
       "2016-12-11        95    IT    257   49  2016  2016-49  \n",
       "2016-12-18        90    IT    361   50  2016  2016-50  \n",
       "2016-12-25        90    IT    275   51  2016  2016-51  "
      ]
     },
     "execution_count": 133,
     "metadata": {},
     "output_type": "execute_result"
    }
   ],
   "source": [
    "# identify the week in the year for google trend dataset\n",
    "vivinopast['date'] = pd.to_datetime(vivinopast['date'])\n",
    "vivinopast_week=vivinopast.set_index('date')\n",
    "vivinopast_week['week'] = pd.DataFrame(vivinopast_week.index.isocalendar().week)\n",
    "vivinopast_week['Year'] = 2016\n",
    "vivinopast_week['Yearweek'] = vivinopast_week['Year'].astype(str).str.cat(vivinopast_week['week'].astype(str), sep = '-')\n",
    "vivinopast_week"
   ]
  },
  {
   "cell_type": "code",
   "execution_count": 122,
   "id": "5ff0aae5",
   "metadata": {
    "ExecuteTime": {
     "end_time": "2022-11-03T00:53:26.168137Z",
     "start_time": "2022-11-03T00:53:25.677850Z"
    }
   },
   "outputs": [
    {
     "data": {
      "text/html": [
       "<div>\n",
       "<style scoped>\n",
       "    .dataframe tbody tr th:only-of-type {\n",
       "        vertical-align: middle;\n",
       "    }\n",
       "\n",
       "    .dataframe tbody tr th {\n",
       "        vertical-align: top;\n",
       "    }\n",
       "\n",
       "    .dataframe thead th {\n",
       "        text-align: right;\n",
       "    }\n",
       "</style>\n",
       "<table border=\"1\" class=\"dataframe\">\n",
       "  <thead>\n",
       "    <tr style=\"text-align: right;\">\n",
       "      <th></th>\n",
       "      <th>Yearweek</th>\n",
       "      <th>Favourite_counts</th>\n",
       "      <th>Retweets_counts</th>\n",
       "    </tr>\n",
       "  </thead>\n",
       "  <tbody>\n",
       "    <tr>\n",
       "      <th>0</th>\n",
       "      <td>2015-29</td>\n",
       "      <td>18</td>\n",
       "      <td>18</td>\n",
       "    </tr>\n",
       "    <tr>\n",
       "      <th>1</th>\n",
       "      <td>2015-30</td>\n",
       "      <td>126</td>\n",
       "      <td>254</td>\n",
       "    </tr>\n",
       "    <tr>\n",
       "      <th>2</th>\n",
       "      <td>2015-31</td>\n",
       "      <td>118</td>\n",
       "      <td>194</td>\n",
       "    </tr>\n",
       "    <tr>\n",
       "      <th>3</th>\n",
       "      <td>2015-32</td>\n",
       "      <td>78</td>\n",
       "      <td>94</td>\n",
       "    </tr>\n",
       "    <tr>\n",
       "      <th>4</th>\n",
       "      <td>2015-33</td>\n",
       "      <td>26</td>\n",
       "      <td>28</td>\n",
       "    </tr>\n",
       "  </tbody>\n",
       "</table>\n",
       "</div>"
      ],
      "text/plain": [
       "  Yearweek  Favourite_counts  Retweets_counts\n",
       "0  2015-29                18               18\n",
       "1  2015-30               126              254\n",
       "2  2015-31               118              194\n",
       "3  2015-32                78               94\n",
       "4  2015-33                26               28"
      ]
     },
     "execution_count": 122,
     "metadata": {},
     "output_type": "execute_result"
    }
   ],
   "source": [
    "# identify the week in the year for @vivino tweets account\n",
    "vivinodf = vivinodf.sort_values(by='Created_time')\n",
    "vivinodf['Dateymd'] =vivinodf.Date.apply(lambda x: pd.to_datetime(x).strftime('%Y-%m-%d'))\n",
    "vivinodf['Dateymd'] = pd.to_datetime(vivinodf['Dateymd'])\n",
    "\n",
    "#find week\n",
    "vivinodf_week=vivinodf.set_index('Dateymd')\n",
    "vivinodf_week['week'] = pd.DataFrame(vivinodf_week.index.isocalendar().week)\n",
    "\n",
    "#find year\n",
    "vivinodf_week['Year'] = vivinodf_week.Date.apply(lambda x: pd.to_datetime(x).strftime('%Y'))\n",
    "\n",
    "#combine together\n",
    "vivinodf_week['Yearweek'] = vivinodf_week['Year'].astype(str).str.cat(vivinodf_week['week'].astype(str), sep = '-')\n",
    "\n",
    "#combine by 'Yearweek'\n",
    "vivinodf_w=vivinodf_week.groupby('Yearweek')[['Favourite_counts','Retweets_counts']].sum().reset_index()\n",
    "vivinodf_w.head()"
   ]
  },
  {
   "cell_type": "code",
   "execution_count": 135,
   "id": "fb479725",
   "metadata": {
    "ExecuteTime": {
     "end_time": "2022-11-03T01:02:05.885896Z",
     "start_time": "2022-11-03T01:02:05.874411Z"
    }
   },
   "outputs": [
    {
     "data": {
      "text/html": [
       "<div>\n",
       "<style scoped>\n",
       "    .dataframe tbody tr th:only-of-type {\n",
       "        vertical-align: middle;\n",
       "    }\n",
       "\n",
       "    .dataframe tbody tr th {\n",
       "        vertical-align: top;\n",
       "    }\n",
       "\n",
       "    .dataframe thead th {\n",
       "        text-align: right;\n",
       "    }\n",
       "</style>\n",
       "<table border=\"1\" class=\"dataframe\">\n",
       "  <thead>\n",
       "    <tr style=\"text-align: right;\">\n",
       "      <th></th>\n",
       "      <th>Total</th>\n",
       "      <th>week</th>\n",
       "      <th>Year</th>\n",
       "      <th>Yearweek</th>\n",
       "      <th>Favourite_counts</th>\n",
       "      <th>Retweets_counts</th>\n",
       "    </tr>\n",
       "  </thead>\n",
       "  <tbody>\n",
       "    <tr>\n",
       "      <th>0</th>\n",
       "      <td>199</td>\n",
       "      <td>1</td>\n",
       "      <td>2016</td>\n",
       "      <td>2016-1</td>\n",
       "      <td>40</td>\n",
       "      <td>50</td>\n",
       "    </tr>\n",
       "    <tr>\n",
       "      <th>1</th>\n",
       "      <td>167</td>\n",
       "      <td>2</td>\n",
       "      <td>2016</td>\n",
       "      <td>2016-2</td>\n",
       "      <td>185</td>\n",
       "      <td>115</td>\n",
       "    </tr>\n",
       "    <tr>\n",
       "      <th>2</th>\n",
       "      <td>241</td>\n",
       "      <td>3</td>\n",
       "      <td>2016</td>\n",
       "      <td>2016-3</td>\n",
       "      <td>114</td>\n",
       "      <td>103</td>\n",
       "    </tr>\n",
       "    <tr>\n",
       "      <th>3</th>\n",
       "      <td>126</td>\n",
       "      <td>4</td>\n",
       "      <td>2016</td>\n",
       "      <td>2016-4</td>\n",
       "      <td>101</td>\n",
       "      <td>133</td>\n",
       "    </tr>\n",
       "    <tr>\n",
       "      <th>4</th>\n",
       "      <td>180</td>\n",
       "      <td>5</td>\n",
       "      <td>2016</td>\n",
       "      <td>2016-5</td>\n",
       "      <td>58</td>\n",
       "      <td>66</td>\n",
       "    </tr>\n",
       "  </tbody>\n",
       "</table>\n",
       "</div>"
      ],
      "text/plain": [
       "   Total week  Year Yearweek  Favourite_counts  Retweets_counts\n",
       "0    199    1  2016   2016-1                40               50\n",
       "1    167    2  2016   2016-2               185              115\n",
       "2    241    3  2016   2016-3               114              103\n",
       "3    126    4  2016   2016-4               101              133\n",
       "4    180    5  2016   2016-5                58               66"
      ]
     },
     "execution_count": 135,
     "metadata": {},
     "output_type": "execute_result"
    }
   ],
   "source": [
    "# Merge two dataset\n",
    "combinenew_df = pd.merge(vivinopast_week,vivinodf_w, how = 'inner', on = 'Yearweek')\n",
    "combinenew_df.drop(combinenew_df.columns[0:10],axis = 1).head()"
   ]
  },
  {
   "cell_type": "code",
   "execution_count": 139,
   "id": "ab3d5ae7",
   "metadata": {
    "ExecuteTime": {
     "end_time": "2022-11-03T01:04:24.298531Z",
     "start_time": "2022-11-03T01:04:24.087939Z"
    }
   },
   "outputs": [
    {
     "data": {
      "image/png": "[encoded data removed]",
      "text/plain": [
       "<Figure size 720x432 with 1 Axes>"
      ]
     },
     "metadata": {
      "needs_background": "light"
     },
     "output_type": "display_data"
    }
   ],
   "source": [
    "plt.figure(figsize=(10, 6))\n",
    "sns.lineplot( x = 'week',\n",
    "                 y = 'Total',\n",
    "                 data = combinenew_df,\n",
    "                 label = 'Search Volume', color = 'green')\n",
    "sns.scatterplot( x = 'week',\n",
    "                 y = 'Retweets_counts',\n",
    "                 data = combinenew_df,\n",
    "                 label = 'Retweets_counts')\n",
    "sns.scatterplot( x = 'week',\n",
    "                 y = 'Favourite_counts',\n",
    "                 data = combinenew_df,\n",
    "                 label = 'Favourite_counts')\n",
    "plt.show()"
   ]
  },
  {
   "cell_type": "markdown",
   "id": "d118687c",
   "metadata": {},
   "source": [
    "## Regression Analysis"
   ]
  },
  {
   "cell_type": "code",
   "execution_count": 140,
   "id": "84c83f90",
   "metadata": {
    "ExecuteTime": {
     "end_time": "2022-11-03T01:07:58.806079Z",
     "start_time": "2022-11-03T01:07:58.577772Z"
    }
   },
   "outputs": [
    {
     "name": "stdout",
     "output_type": "stream",
     "text": [
      "                            OLS Regression Results                            \n",
      "==============================================================================\n",
      "Dep. Variable:                  Total   R-squared:                       0.053\n",
      "Model:                            OLS   Adj. R-squared:                  0.014\n",
      "Method:                 Least Squares   F-statistic:                     1.355\n",
      "Date:                Thu, 03 Nov 2022   Prob (F-statistic):              0.268\n",
      "Time:                        01:07:58   Log-Likelihood:                -268.37\n",
      "No. Observations:                  51   AIC:                             542.7\n",
      "Df Residuals:                      48   BIC:                             548.5\n",
      "Df Model:                           2                                         \n",
      "Covariance Type:            nonrobust                                         \n",
      "====================================================================================\n",
      "                       coef    std err          t      P>|t|      [0.025      0.975]\n",
      "------------------------------------------------------------------------------------\n",
      "const              209.2875     13.771     15.198      0.000     181.600     236.975\n",
      "Retweets_counts     -0.0951      0.126     -0.758      0.452      -0.347       0.157\n",
      "Favourite_counts    -0.0041      0.095     -0.043      0.966      -0.195       0.187\n",
      "==============================================================================\n",
      "Omnibus:                        9.158   Durbin-Watson:                   1.981\n",
      "Prob(Omnibus):                  0.010   Jarque-Bera (JB):                8.431\n",
      "Skew:                           0.902   Prob(JB):                       0.0148\n",
      "Kurtosis:                       3.844   Cond. No.                         735.\n",
      "==============================================================================\n",
      "\n",
      "Notes:\n",
      "[1] Standard Errors assume that the covariance matrix of the errors is correctly specified.\n"
     ]
    }
   ],
   "source": [
    "X = combinenew_df[['Retweets_counts','Favourite_counts']]\n",
    "Y = combinenew_df.Total\n",
    "X = sm.add_constant(X)\n",
    "lm = sm.OLS(Y,X).fit()\n",
    "print (lm.summary()) "
   ]
  },
  {
   "cell_type": "code",
   "execution_count": null,
   "id": "04af1aae",
   "metadata": {},
   "outputs": [],
   "source": []
  }
 ],
 "metadata": {
  "kernelspec": {
   "display_name": "Python 3 (ipykernel)",
   "language": "python",
   "name": "python3"
  },
  "language_info": {
   "codemirror_mode": {
    "name": "ipython",
    "version": 3
   },
   "file_extension": ".py",
   "mimetype": "text/x-python",
   "name": "python",
   "nbconvert_exporter": "python",
   "pygments_lexer": "ipython3",
   "version": "3.9.12"
  },
  "toc": {
   "base_numbering": 1,
   "nav_menu": {},
   "number_sections": true,
   "sideBar": true,
   "skip_h1_title": false,
   "title_cell": "Table of Contents",
   "title_sidebar": "Contents",
   "toc_cell": false,
   "toc_position": {},
   "toc_section_display": true,
   "toc_window_display": true
  },
  "varInspector": {
   "cols": {
    "lenName": 16,
    "lenType": 16,
    "lenVar": 40
   },
   "kernels_config": {
    "python": {
     "delete_cmd_postfix": "",
     "delete_cmd_prefix": "del ",
     "library": "var_list.py",
     "varRefreshCmd": "print(var_dic_list())"
    },
    "r": {
     "delete_cmd_postfix": ") ",
     "delete_cmd_prefix": "rm(",
     "library": "var_list.r",
     "varRefreshCmd": "cat(var_dic_list()) "
    }
   },
   "types_to_exclude": [
    "module",
    "function",
    "builtin_function_or_method",
    "instance",
    "_Feature"
   ],
   "window_display": false
  }
 },
 "nbformat": 4,
 "nbformat_minor": 5
}
